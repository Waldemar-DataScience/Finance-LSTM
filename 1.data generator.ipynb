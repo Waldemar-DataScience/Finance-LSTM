{
 "cells": [
  {
   "cell_type": "code",
   "execution_count": 1,
   "metadata": {},
   "outputs": [],
   "source": [
    "import numpy as np\n",
    "import pandas as pd\n",
    "import matplotlib.pyplot as plt"
   ]
  },
  {
   "cell_type": "markdown",
   "metadata": {},
   "source": [
    "# $AR(N)$ genarator\n",
    "\n",
    "$$ X_{t} = \\sum_{i=1}^{N} A_i X_{t-i} + \\xi, $$\n",
    "\n",
    "where $\\xi$ is a noise term."
   ]
  },
  {
   "cell_type": "markdown",
   "metadata": {},
   "source": [
    "### Model parameters"
   ]
  },
  {
   "cell_type": "code",
   "execution_count": 2,
   "metadata": {},
   "outputs": [],
   "source": [
    "# parameters:\n",
    "\n",
    "N = 6 \n",
    "#raw_coef = np.random.randint(1,10,size=N)\n",
    "temp = [2,4,5,6,7,9] # coefficients of model \n",
    "sample_size = 1000+N # number of generated points\n",
    "AR_coef = np.array(temp)\n",
    "AR_coef = AR_coef/np.sum(AR_coef) #normalisation\n",
    "AR_sample = np.zeros(sample_size)"
   ]
  },
  {
   "cell_type": "markdown",
   "metadata": {},
   "source": [
    "### Data Generation"
   ]
  },
  {
   "cell_type": "code",
   "execution_count": 3,
   "metadata": {},
   "outputs": [],
   "source": [
    "#genaratin initial N values\n",
    "initial_val = np.array([0.05,0.04])\n",
    "AR_sample[:2] = initial_val\n",
    "#initial loop\n",
    "for i in range(2,N):\n",
    "    AR_sample[i] = np.dot(AR_coef[-i:], AR_sample[:i]) # sprawdzic "
   ]
  },
  {
   "cell_type": "code",
   "execution_count": 4,
   "metadata": {},
   "outputs": [],
   "source": [
    "#full loop - generating data\n",
    "\n",
    "for i in range(N,sample_size):\n",
    "    AR_sample[i] = np.dot(AR_coef, AR_sample[i-N:i]) + 0.001*(np.random.random()-0.5)\n",
    "\n",
    "AR_sample= AR_sample[N:] #removing first N samples\n"
   ]
  },
  {
   "cell_type": "code",
   "execution_count": 5,
   "metadata": {},
   "outputs": [],
   "source": [
    "AR_sample = 1000*(AR_sample - np.mean(AR_sample))"
   ]
  },
  {
   "cell_type": "code",
   "execution_count": 6,
   "metadata": {},
   "outputs": [
    {
     "data": {
      "text/plain": [
       "[<matplotlib.lines.Line2D at 0x165b5ae6e20>]"
      ]
     },
     "execution_count": 6,
     "metadata": {},
     "output_type": "execute_result"
    },
    {
     "data": {
      "image/png": "[encoded data removed]",
      "text/plain": [
       "<Figure size 432x288 with 1 Axes>"
      ]
     },
     "metadata": {
      "needs_background": "light"
     },
     "output_type": "display_data"
    }
   ],
   "source": [
    "plt.plot(AR_sample)"
   ]
  },
  {
   "cell_type": "markdown",
   "metadata": {},
   "source": [
    "## AR estimation\n",
    "\n",
    "For checking purposes - comparison with ML AR model"
   ]
  },
  {
   "cell_type": "code",
   "execution_count": 7,
   "metadata": {},
   "outputs": [],
   "source": [
    "from statsmodels.tsa.arima.model import ARIMA"
   ]
  },
  {
   "cell_type": "code",
   "execution_count": 8,
   "metadata": {},
   "outputs": [
    {
     "data": {
      "text/html": [
       "<table class=\"simpletable\">\n",
       "<caption>SARIMAX Results</caption>\n",
       "<tr>\n",
       "  <th>Dep. Variable:</th>           <td>y</td>        <th>  No. Observations:  </th>   <td>1500</td>   \n",
       "</tr>\n",
       "<tr>\n",
       "  <th>Model:</th>            <td>ARIMA(6, 0, 0)</td>  <th>  Log Likelihood     </th> <td>-3388.444</td>\n",
       "</tr>\n",
       "<tr>\n",
       "  <th>Date:</th>            <td>Sun, 24 Jan 2021</td> <th>  AIC                </th> <td>6792.888</td> \n",
       "</tr>\n",
       "<tr>\n",
       "  <th>Time:</th>                <td>17:15:42</td>     <th>  BIC                </th> <td>6835.394</td> \n",
       "</tr>\n",
       "<tr>\n",
       "  <th>Sample:</th>                  <td>0</td>        <th>  HQIC               </th> <td>6808.723</td> \n",
       "</tr>\n",
       "<tr>\n",
       "  <th></th>                      <td> - 1500</td>     <th>                     </th>     <td> </td>    \n",
       "</tr>\n",
       "<tr>\n",
       "  <th>Covariance Type:</th>        <td>opg</td>       <th>                     </th>     <td> </td>    \n",
       "</tr>\n",
       "</table>\n",
       "<table class=\"simpletable\">\n",
       "<tr>\n",
       "     <td></td>       <th>coef</th>     <th>std err</th>      <th>z</th>      <th>P>|z|</th>  <th>[0.025</th>    <th>0.975]</th>  \n",
       "</tr>\n",
       "<tr>\n",
       "  <th>const</th>  <td>    0.0993</td> <td>    6.179</td> <td>    0.016</td> <td> 0.987</td> <td>  -12.012</td> <td>   12.211</td>\n",
       "</tr>\n",
       "<tr>\n",
       "  <th>ar.L1</th>  <td>    0.2996</td> <td>    0.026</td> <td>   11.665</td> <td> 0.000</td> <td>    0.249</td> <td>    0.350</td>\n",
       "</tr>\n",
       "<tr>\n",
       "  <th>ar.L2</th>  <td>    0.2823</td> <td>    0.027</td> <td>   10.514</td> <td> 0.000</td> <td>    0.230</td> <td>    0.335</td>\n",
       "</tr>\n",
       "<tr>\n",
       "  <th>ar.L3</th>  <td>    0.0366</td> <td>    0.028</td> <td>    1.322</td> <td> 0.186</td> <td>   -0.018</td> <td>    0.091</td>\n",
       "</tr>\n",
       "<tr>\n",
       "  <th>ar.L4</th>  <td>    0.2301</td> <td>    0.028</td> <td>    8.316</td> <td> 0.000</td> <td>    0.176</td> <td>    0.284</td>\n",
       "</tr>\n",
       "<tr>\n",
       "  <th>ar.L5</th>  <td>    0.0859</td> <td>    0.027</td> <td>    3.182</td> <td> 0.001</td> <td>    0.033</td> <td>    0.139</td>\n",
       "</tr>\n",
       "<tr>\n",
       "  <th>ar.L6</th>  <td>    0.0558</td> <td>    0.025</td> <td>    2.193</td> <td> 0.028</td> <td>    0.006</td> <td>    0.106</td>\n",
       "</tr>\n",
       "<tr>\n",
       "  <th>sigma2</th> <td>    5.3527</td> <td>    0.311</td> <td>   17.209</td> <td> 0.000</td> <td>    4.743</td> <td>    5.962</td>\n",
       "</tr>\n",
       "</table>\n",
       "<table class=\"simpletable\">\n",
       "<tr>\n",
       "  <th>Ljung-Box (L1) (Q):</th>     <td>0.00</td> <th>  Jarque-Bera (JB):  </th> <td>89.81</td>\n",
       "</tr>\n",
       "<tr>\n",
       "  <th>Prob(Q):</th>                <td>0.98</td> <th>  Prob(JB):          </th> <td>0.00</td> \n",
       "</tr>\n",
       "<tr>\n",
       "  <th>Heteroskedasticity (H):</th> <td>0.96</td> <th>  Skew:              </th> <td>-0.01</td>\n",
       "</tr>\n",
       "<tr>\n",
       "  <th>Prob(H) (two-sided):</th>    <td>0.67</td> <th>  Kurtosis:          </th> <td>1.80</td> \n",
       "</tr>\n",
       "</table><br/><br/>Warnings:<br/>[1] Covariance matrix calculated using the outer product of gradients (complex-step)."
      ],
      "text/plain": [
       "<class 'statsmodels.iolib.summary.Summary'>\n",
       "\"\"\"\n",
       "                               SARIMAX Results                                \n",
       "==============================================================================\n",
       "Dep. Variable:                      y   No. Observations:                 1500\n",
       "Model:                 ARIMA(6, 0, 0)   Log Likelihood               -3388.444\n",
       "Date:                Sun, 24 Jan 2021   AIC                           6792.888\n",
       "Time:                        17:15:42   BIC                           6835.394\n",
       "Sample:                             0   HQIC                          6808.723\n",
       "                               - 1500                                         \n",
       "Covariance Type:                  opg                                         \n",
       "==============================================================================\n",
       "                 coef    std err          z      P>|z|      [0.025      0.975]\n",
       "------------------------------------------------------------------------------\n",
       "const          0.0993      6.179      0.016      0.987     -12.012      12.211\n",
       "ar.L1          0.2996      0.026     11.665      0.000       0.249       0.350\n",
       "ar.L2          0.2823      0.027     10.514      0.000       0.230       0.335\n",
       "ar.L3          0.0366      0.028      1.322      0.186      -0.018       0.091\n",
       "ar.L4          0.2301      0.028      8.316      0.000       0.176       0.284\n",
       "ar.L5          0.0859      0.027      3.182      0.001       0.033       0.139\n",
       "ar.L6          0.0558      0.025      2.193      0.028       0.006       0.106\n",
       "sigma2         5.3527      0.311     17.209      0.000       4.743       5.962\n",
       "===================================================================================\n",
       "Ljung-Box (L1) (Q):                   0.00   Jarque-Bera (JB):                89.81\n",
       "Prob(Q):                              0.98   Prob(JB):                         0.00\n",
       "Heteroskedasticity (H):               0.96   Skew:                            -0.01\n",
       "Prob(H) (two-sided):                  0.67   Kurtosis:                         1.80\n",
       "===================================================================================\n",
       "\n",
       "Warnings:\n",
       "[1] Covariance matrix calculated using the outer product of gradients (complex-step).\n",
       "\"\"\""
      ]
     },
     "execution_count": 8,
     "metadata": {},
     "output_type": "execute_result"
    }
   ],
   "source": [
    "model= ARIMA(AR_sample, order=(N,0,0))\n",
    "results= model.fit()\n",
    "results.summary()"
   ]
  },
  {
   "cell_type": "markdown",
   "metadata": {},
   "source": [
    "### Comparison of generator parameters and estimated ones"
   ]
  },
  {
   "cell_type": "code",
   "execution_count": 9,
   "metadata": {},
   "outputs": [],
   "source": [
    "comp = pd.DataFrame({\"model_params\" :np.round(AR_coef,4)[::-1], \"estimated_params\" : results.arparams})"
   ]
  },
  {
   "cell_type": "code",
   "execution_count": 10,
   "metadata": {},
   "outputs": [
    {
     "data": {
      "text/html": [
       "<div>\n",
       "<style scoped>\n",
       "    .dataframe tbody tr th:only-of-type {\n",
       "        vertical-align: middle;\n",
       "    }\n",
       "\n",
       "    .dataframe tbody tr th {\n",
       "        vertical-align: top;\n",
       "    }\n",
       "\n",
       "    .dataframe thead th {\n",
       "        text-align: right;\n",
       "    }\n",
       "</style>\n",
       "<table border=\"1\" class=\"dataframe\">\n",
       "  <thead>\n",
       "    <tr style=\"text-align: right;\">\n",
       "      <th></th>\n",
       "      <th>model_params</th>\n",
       "      <th>estimated_params</th>\n",
       "    </tr>\n",
       "  </thead>\n",
       "  <tbody>\n",
       "    <tr>\n",
       "      <th>0</th>\n",
       "      <td>0.2821</td>\n",
       "      <td>0.299598</td>\n",
       "    </tr>\n",
       "    <tr>\n",
       "      <th>1</th>\n",
       "      <td>0.3333</td>\n",
       "      <td>0.282293</td>\n",
       "    </tr>\n",
       "    <tr>\n",
       "      <th>2</th>\n",
       "      <td>0.0513</td>\n",
       "      <td>0.036648</td>\n",
       "    </tr>\n",
       "    <tr>\n",
       "      <th>3</th>\n",
       "      <td>0.1795</td>\n",
       "      <td>0.230069</td>\n",
       "    </tr>\n",
       "    <tr>\n",
       "      <th>4</th>\n",
       "      <td>0.1026</td>\n",
       "      <td>0.085923</td>\n",
       "    </tr>\n",
       "    <tr>\n",
       "      <th>5</th>\n",
       "      <td>0.0513</td>\n",
       "      <td>0.055790</td>\n",
       "    </tr>\n",
       "  </tbody>\n",
       "</table>\n",
       "</div>"
      ],
      "text/plain": [
       "   model_params  estimated_params\n",
       "0        0.2821          0.299598\n",
       "1        0.3333          0.282293\n",
       "2        0.0513          0.036648\n",
       "3        0.1795          0.230069\n",
       "4        0.1026          0.085923\n",
       "5        0.0513          0.055790"
      ]
     },
     "execution_count": 10,
     "metadata": {},
     "output_type": "execute_result"
    }
   ],
   "source": [
    "comp"
   ]
  },
  {
   "cell_type": "markdown",
   "metadata": {},
   "source": [
    "### Saving data"
   ]
  },
  {
   "cell_type": "code",
   "execution_count": 11,
   "metadata": {},
   "outputs": [
    {
     "data": {
      "text/html": [
       "<div>\n",
       "<style scoped>\n",
       "    .dataframe tbody tr th:only-of-type {\n",
       "        vertical-align: middle;\n",
       "    }\n",
       "\n",
       "    .dataframe tbody tr th {\n",
       "        vertical-align: top;\n",
       "    }\n",
       "\n",
       "    .dataframe thead th {\n",
       "        text-align: right;\n",
       "    }\n",
       "</style>\n",
       "<table border=\"1\" class=\"dataframe\">\n",
       "  <thead>\n",
       "    <tr style=\"text-align: right;\">\n",
       "      <th></th>\n",
       "      <th>Sales</th>\n",
       "      <th>Item</th>\n",
       "    </tr>\n",
       "  </thead>\n",
       "  <tbody>\n",
       "    <tr>\n",
       "      <th>0</th>\n",
       "      <td>-0.515672</td>\n",
       "      <td>IT001</td>\n",
       "    </tr>\n",
       "    <tr>\n",
       "      <th>1</th>\n",
       "      <td>-1.916485</td>\n",
       "      <td>IT001</td>\n",
       "    </tr>\n",
       "    <tr>\n",
       "      <th>2</th>\n",
       "      <td>0.056180</td>\n",
       "      <td>IT001</td>\n",
       "    </tr>\n",
       "    <tr>\n",
       "      <th>3</th>\n",
       "      <td>0.890699</td>\n",
       "      <td>IT001</td>\n",
       "    </tr>\n",
       "    <tr>\n",
       "      <th>4</th>\n",
       "      <td>2.622610</td>\n",
       "      <td>IT001</td>\n",
       "    </tr>\n",
       "    <tr>\n",
       "      <th>...</th>\n",
       "      <td>...</td>\n",
       "      <td>...</td>\n",
       "    </tr>\n",
       "    <tr>\n",
       "      <th>1495</th>\n",
       "      <td>16.390593</td>\n",
       "      <td>IT001</td>\n",
       "    </tr>\n",
       "    <tr>\n",
       "      <th>1496</th>\n",
       "      <td>12.373120</td>\n",
       "      <td>IT001</td>\n",
       "    </tr>\n",
       "    <tr>\n",
       "      <th>1497</th>\n",
       "      <td>12.985960</td>\n",
       "      <td>IT001</td>\n",
       "    </tr>\n",
       "    <tr>\n",
       "      <th>1498</th>\n",
       "      <td>16.083739</td>\n",
       "      <td>IT001</td>\n",
       "    </tr>\n",
       "    <tr>\n",
       "      <th>1499</th>\n",
       "      <td>16.913528</td>\n",
       "      <td>IT001</td>\n",
       "    </tr>\n",
       "  </tbody>\n",
       "</table>\n",
       "<p>1500 rows × 2 columns</p>\n",
       "</div>"
      ],
      "text/plain": [
       "          Sales   Item\n",
       "0     -0.515672  IT001\n",
       "1     -1.916485  IT001\n",
       "2      0.056180  IT001\n",
       "3      0.890699  IT001\n",
       "4      2.622610  IT001\n",
       "...         ...    ...\n",
       "1495  16.390593  IT001\n",
       "1496  12.373120  IT001\n",
       "1497  12.985960  IT001\n",
       "1498  16.083739  IT001\n",
       "1499  16.913528  IT001\n",
       "\n",
       "[1500 rows x 2 columns]"
      ]
     },
     "execution_count": 11,
     "metadata": {},
     "output_type": "execute_result"
    }
   ],
   "source": [
    "#col = ['Item','Sales']\n",
    "df = pd.DataFrame()\n",
    "\n",
    "df[\"Sales\"] = AR_sample\n",
    "df[\"Item\"] = \"IT001\"\n",
    "df\n"
   ]
  },
  {
   "cell_type": "code",
   "execution_count": 12,
   "metadata": {},
   "outputs": [],
   "source": [
    "df.to_csv(\"raw_data.csv\", index=False)"
   ]
  },
  {
   "cell_type": "code",
   "execution_count": null,
   "metadata": {},
   "outputs": [],
   "source": []
  }
 ],
 "metadata": {
  "kernelspec": {
   "display_name": "Python 3",
   "language": "python",
   "name": "python3"
  },
  "language_info": {
   "codemirror_mode": {
    "name": "ipython",
    "version": 3
   },
   "file_extension": ".py",
   "mimetype": "text/x-python",
   "name": "python",
   "nbconvert_exporter": "python",
   "pygments_lexer": "ipython3",
   "version": "3.8.5"
  }
 },
 "nbformat": 4,
 "nbformat_minor": 4
}
