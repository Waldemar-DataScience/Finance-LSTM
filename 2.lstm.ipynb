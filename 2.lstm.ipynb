{
 "cells": [
  {
   "cell_type": "code",
   "execution_count": 1,
   "metadata": {},
   "outputs": [],
   "source": [
    "import pandas as pd\n",
    "import numpy as np\n",
    "import matplotlib.pyplot as plt"
   ]
  },
  {
   "cell_type": "markdown",
   "metadata": {},
   "source": [
    "Data reading"
   ]
  },
  {
   "cell_type": "code",
   "execution_count": 2,
   "metadata": {},
   "outputs": [],
   "source": [
    "raw_data = pd.read_csv(\"raw_data.csv\")"
   ]
  },
  {
   "cell_type": "code",
   "execution_count": 3,
   "metadata": {},
   "outputs": [
    {
     "data": {
      "text/html": [
       "<div>\n",
       "<style scoped>\n",
       "    .dataframe tbody tr th:only-of-type {\n",
       "        vertical-align: middle;\n",
       "    }\n",
       "\n",
       "    .dataframe tbody tr th {\n",
       "        vertical-align: top;\n",
       "    }\n",
       "\n",
       "    .dataframe thead th {\n",
       "        text-align: right;\n",
       "    }\n",
       "</style>\n",
       "<table border=\"1\" class=\"dataframe\">\n",
       "  <thead>\n",
       "    <tr style=\"text-align: right;\">\n",
       "      <th></th>\n",
       "      <th>Sales</th>\n",
       "      <th>Item</th>\n",
       "    </tr>\n",
       "  </thead>\n",
       "  <tbody>\n",
       "    <tr>\n",
       "      <th>0</th>\n",
       "      <td>-0.515672</td>\n",
       "      <td>IT001</td>\n",
       "    </tr>\n",
       "    <tr>\n",
       "      <th>1</th>\n",
       "      <td>-1.916485</td>\n",
       "      <td>IT001</td>\n",
       "    </tr>\n",
       "    <tr>\n",
       "      <th>2</th>\n",
       "      <td>0.056180</td>\n",
       "      <td>IT001</td>\n",
       "    </tr>\n",
       "    <tr>\n",
       "      <th>3</th>\n",
       "      <td>0.890699</td>\n",
       "      <td>IT001</td>\n",
       "    </tr>\n",
       "    <tr>\n",
       "      <th>4</th>\n",
       "      <td>2.622610</td>\n",
       "      <td>IT001</td>\n",
       "    </tr>\n",
       "    <tr>\n",
       "      <th>5</th>\n",
       "      <td>0.364650</td>\n",
       "      <td>IT001</td>\n",
       "    </tr>\n",
       "    <tr>\n",
       "      <th>6</th>\n",
       "      <td>-1.663110</td>\n",
       "      <td>IT001</td>\n",
       "    </tr>\n",
       "    <tr>\n",
       "      <th>7</th>\n",
       "      <td>-3.824552</td>\n",
       "      <td>IT001</td>\n",
       "    </tr>\n",
       "  </tbody>\n",
       "</table>\n",
       "</div>"
      ],
      "text/plain": [
       "      Sales   Item\n",
       "0 -0.515672  IT001\n",
       "1 -1.916485  IT001\n",
       "2  0.056180  IT001\n",
       "3  0.890699  IT001\n",
       "4  2.622610  IT001\n",
       "5  0.364650  IT001\n",
       "6 -1.663110  IT001\n",
       "7 -3.824552  IT001"
      ]
     },
     "execution_count": 3,
     "metadata": {},
     "output_type": "execute_result"
    }
   ],
   "source": [
    "raw_data.head(8)"
   ]
  },
  {
   "cell_type": "code",
   "execution_count": 4,
   "metadata": {},
   "outputs": [
    {
     "data": {
      "text/html": [
       "<div>\n",
       "<style scoped>\n",
       "    .dataframe tbody tr th:only-of-type {\n",
       "        vertical-align: middle;\n",
       "    }\n",
       "\n",
       "    .dataframe tbody tr th {\n",
       "        vertical-align: top;\n",
       "    }\n",
       "\n",
       "    .dataframe thead th {\n",
       "        text-align: right;\n",
       "    }\n",
       "</style>\n",
       "<table border=\"1\" class=\"dataframe\">\n",
       "  <thead>\n",
       "    <tr style=\"text-align: right;\">\n",
       "      <th></th>\n",
       "      <th>Sales</th>\n",
       "      <th>Item</th>\n",
       "    </tr>\n",
       "  </thead>\n",
       "  <tbody>\n",
       "    <tr>\n",
       "      <th>1492</th>\n",
       "      <td>15.808775</td>\n",
       "      <td>IT001</td>\n",
       "    </tr>\n",
       "    <tr>\n",
       "      <th>1493</th>\n",
       "      <td>12.272530</td>\n",
       "      <td>IT001</td>\n",
       "    </tr>\n",
       "    <tr>\n",
       "      <th>1494</th>\n",
       "      <td>12.028359</td>\n",
       "      <td>IT001</td>\n",
       "    </tr>\n",
       "    <tr>\n",
       "      <th>1495</th>\n",
       "      <td>16.390593</td>\n",
       "      <td>IT001</td>\n",
       "    </tr>\n",
       "    <tr>\n",
       "      <th>1496</th>\n",
       "      <td>12.373120</td>\n",
       "      <td>IT001</td>\n",
       "    </tr>\n",
       "    <tr>\n",
       "      <th>1497</th>\n",
       "      <td>12.985960</td>\n",
       "      <td>IT001</td>\n",
       "    </tr>\n",
       "    <tr>\n",
       "      <th>1498</th>\n",
       "      <td>16.083739</td>\n",
       "      <td>IT001</td>\n",
       "    </tr>\n",
       "    <tr>\n",
       "      <th>1499</th>\n",
       "      <td>16.913528</td>\n",
       "      <td>IT001</td>\n",
       "    </tr>\n",
       "  </tbody>\n",
       "</table>\n",
       "</div>"
      ],
      "text/plain": [
       "          Sales   Item\n",
       "1492  15.808775  IT001\n",
       "1493  12.272530  IT001\n",
       "1494  12.028359  IT001\n",
       "1495  16.390593  IT001\n",
       "1496  12.373120  IT001\n",
       "1497  12.985960  IT001\n",
       "1498  16.083739  IT001\n",
       "1499  16.913528  IT001"
      ]
     },
     "execution_count": 4,
     "metadata": {},
     "output_type": "execute_result"
    }
   ],
   "source": [
    "raw_data.tail(8)"
   ]
  },
  {
   "cell_type": "markdown",
   "metadata": {},
   "source": [
    "### Train test split\n",
    "\n",
    "Since the data is a sequence we cannot chose them randomly but to choose a cutoff of train data (80% first points)."
   ]
  },
  {
   "cell_type": "code",
   "execution_count": 5,
   "metadata": {},
   "outputs": [],
   "source": [
    "n_points = 6 #lookback \n",
    "# train test split\n",
    "split = int(0.8 * len(raw_data))\n",
    "train = raw_data[\"Sales\"].values[:split+n_points] #little overlaping, extra n_points, index split show first column, we need n_points more\n",
    "test = raw_data[\"Sales\"].values[split:]"
   ]
  },
  {
   "cell_type": "markdown",
   "metadata": {},
   "source": [
    "## Building dataset for input to deep learinig\n",
    "\n",
    "*n_points* (N) is lookback number. it shows how many previous time  points in sequence is taken to the sample (row) in training/testing data. last column  is a label. "
   ]
  },
  {
   "cell_type": "code",
   "execution_count": 6,
   "metadata": {},
   "outputs": [],
   "source": [
    "def make_input(data,n_points):\n",
    "    '''\n",
    "    Function generating the np.array with train/test points as an input for ML models\n",
    "    '''\n",
    "    n_rows = len(data)\n",
    "    result = np.empty((n_rows - n_points,n_points))\n",
    "    for i in range(n_rows-n_points):\n",
    "                result[i,:] = data[i : i+n_points]\n",
    "    return result"
   ]
  },
  {
   "cell_type": "code",
   "execution_count": 7,
   "metadata": {},
   "outputs": [],
   "source": [
    "data = raw_data[\"Sales\"].values\n",
    "X_train  = make_input(train,n_points)\n",
    "X_test = make_input(test,n_points)\n",
    "y_train = raw_data[\"Sales\"].values[n_points:split+n_points]\n",
    "y_test = raw_data[\"Sales\"].values[split+n_points:]"
   ]
  },
  {
   "cell_type": "code",
   "execution_count": 8,
   "metadata": {},
   "outputs": [
    {
     "data": {
      "text/html": [
       "<div>\n",
       "<style scoped>\n",
       "    .dataframe tbody tr th:only-of-type {\n",
       "        vertical-align: middle;\n",
       "    }\n",
       "\n",
       "    .dataframe tbody tr th {\n",
       "        vertical-align: top;\n",
       "    }\n",
       "\n",
       "    .dataframe thead th {\n",
       "        text-align: right;\n",
       "    }\n",
       "</style>\n",
       "<table border=\"1\" class=\"dataframe\">\n",
       "  <thead>\n",
       "    <tr style=\"text-align: right;\">\n",
       "      <th></th>\n",
       "      <th>T_(N-6)</th>\n",
       "      <th>T_(N-5)</th>\n",
       "      <th>T_(N-4)</th>\n",
       "      <th>T_(N-3)</th>\n",
       "      <th>T_(N-2)</th>\n",
       "      <th>T_(N-1)</th>\n",
       "      <th>label T_N</th>\n",
       "    </tr>\n",
       "  </thead>\n",
       "  <tbody>\n",
       "    <tr>\n",
       "      <th>0</th>\n",
       "      <td>-0.515672</td>\n",
       "      <td>-1.916485</td>\n",
       "      <td>0.056180</td>\n",
       "      <td>0.890699</td>\n",
       "      <td>2.622610</td>\n",
       "      <td>0.364650</td>\n",
       "      <td>-1.663110</td>\n",
       "    </tr>\n",
       "    <tr>\n",
       "      <th>1</th>\n",
       "      <td>-1.916485</td>\n",
       "      <td>0.056180</td>\n",
       "      <td>0.890699</td>\n",
       "      <td>2.622610</td>\n",
       "      <td>0.364650</td>\n",
       "      <td>-1.663110</td>\n",
       "      <td>-3.824552</td>\n",
       "    </tr>\n",
       "    <tr>\n",
       "      <th>2</th>\n",
       "      <td>0.056180</td>\n",
       "      <td>0.890699</td>\n",
       "      <td>2.622610</td>\n",
       "      <td>0.364650</td>\n",
       "      <td>-1.663110</td>\n",
       "      <td>-3.824552</td>\n",
       "      <td>-2.370070</td>\n",
       "    </tr>\n",
       "    <tr>\n",
       "      <th>3</th>\n",
       "      <td>0.890699</td>\n",
       "      <td>2.622610</td>\n",
       "      <td>0.364650</td>\n",
       "      <td>-1.663110</td>\n",
       "      <td>-3.824552</td>\n",
       "      <td>-2.370070</td>\n",
       "      <td>-4.999383</td>\n",
       "    </tr>\n",
       "    <tr>\n",
       "      <th>4</th>\n",
       "      <td>2.622610</td>\n",
       "      <td>0.364650</td>\n",
       "      <td>-1.663110</td>\n",
       "      <td>-3.824552</td>\n",
       "      <td>-2.370070</td>\n",
       "      <td>-4.999383</td>\n",
       "      <td>-5.038801</td>\n",
       "    </tr>\n",
       "    <tr>\n",
       "      <th>...</th>\n",
       "      <td>...</td>\n",
       "      <td>...</td>\n",
       "      <td>...</td>\n",
       "      <td>...</td>\n",
       "      <td>...</td>\n",
       "      <td>...</td>\n",
       "      <td>...</td>\n",
       "    </tr>\n",
       "    <tr>\n",
       "      <th>1195</th>\n",
       "      <td>1.408941</td>\n",
       "      <td>-1.086242</td>\n",
       "      <td>-1.933767</td>\n",
       "      <td>1.842369</td>\n",
       "      <td>1.815203</td>\n",
       "      <td>2.635313</td>\n",
       "      <td>2.740790</td>\n",
       "    </tr>\n",
       "    <tr>\n",
       "      <th>1196</th>\n",
       "      <td>-1.086242</td>\n",
       "      <td>-1.933767</td>\n",
       "      <td>1.842369</td>\n",
       "      <td>1.815203</td>\n",
       "      <td>2.635313</td>\n",
       "      <td>2.740790</td>\n",
       "      <td>0.616929</td>\n",
       "    </tr>\n",
       "    <tr>\n",
       "      <th>1197</th>\n",
       "      <td>-1.933767</td>\n",
       "      <td>1.842369</td>\n",
       "      <td>1.815203</td>\n",
       "      <td>2.635313</td>\n",
       "      <td>2.740790</td>\n",
       "      <td>0.616929</td>\n",
       "      <td>-0.385975</td>\n",
       "    </tr>\n",
       "    <tr>\n",
       "      <th>1198</th>\n",
       "      <td>1.842369</td>\n",
       "      <td>1.815203</td>\n",
       "      <td>2.635313</td>\n",
       "      <td>2.740790</td>\n",
       "      <td>0.616929</td>\n",
       "      <td>-0.385975</td>\n",
       "      <td>-1.706448</td>\n",
       "    </tr>\n",
       "    <tr>\n",
       "      <th>1199</th>\n",
       "      <td>1.815203</td>\n",
       "      <td>2.635313</td>\n",
       "      <td>2.740790</td>\n",
       "      <td>0.616929</td>\n",
       "      <td>-0.385975</td>\n",
       "      <td>-1.706448</td>\n",
       "      <td>-3.401328</td>\n",
       "    </tr>\n",
       "  </tbody>\n",
       "</table>\n",
       "<p>1200 rows × 7 columns</p>\n",
       "</div>"
      ],
      "text/plain": [
       "       T_(N-6)   T_(N-5)   T_(N-4)   T_(N-3)   T_(N-2)   T_(N-1)  label T_N\n",
       "0    -0.515672 -1.916485  0.056180  0.890699  2.622610  0.364650  -1.663110\n",
       "1    -1.916485  0.056180  0.890699  2.622610  0.364650 -1.663110  -3.824552\n",
       "2     0.056180  0.890699  2.622610  0.364650 -1.663110 -3.824552  -2.370070\n",
       "3     0.890699  2.622610  0.364650 -1.663110 -3.824552 -2.370070  -4.999383\n",
       "4     2.622610  0.364650 -1.663110 -3.824552 -2.370070 -4.999383  -5.038801\n",
       "...        ...       ...       ...       ...       ...       ...        ...\n",
       "1195  1.408941 -1.086242 -1.933767  1.842369  1.815203  2.635313   2.740790\n",
       "1196 -1.086242 -1.933767  1.842369  1.815203  2.635313  2.740790   0.616929\n",
       "1197 -1.933767  1.842369  1.815203  2.635313  2.740790  0.616929  -0.385975\n",
       "1198  1.842369  1.815203  2.635313  2.740790  0.616929 -0.385975  -1.706448\n",
       "1199  1.815203  2.635313  2.740790  0.616929 -0.385975 -1.706448  -3.401328\n",
       "\n",
       "[1200 rows x 7 columns]"
      ]
     },
     "execution_count": 8,
     "metadata": {},
     "output_type": "execute_result"
    }
   ],
   "source": [
    "#data visualisation\n",
    "column_name = [f\"T_(N-{i})\" for i in range(n_points,0,-1)]\n",
    "Xtrn = pd.DataFrame(X_train,columns = column_name)\n",
    "Xtrn[\"label T_N\"] = y_train\n",
    "Xtrn"
   ]
  },
  {
   "cell_type": "code",
   "execution_count": 9,
   "metadata": {},
   "outputs": [
    {
     "data": {
      "text/html": [
       "<div>\n",
       "<style scoped>\n",
       "    .dataframe tbody tr th:only-of-type {\n",
       "        vertical-align: middle;\n",
       "    }\n",
       "\n",
       "    .dataframe tbody tr th {\n",
       "        vertical-align: top;\n",
       "    }\n",
       "\n",
       "    .dataframe thead th {\n",
       "        text-align: right;\n",
       "    }\n",
       "</style>\n",
       "<table border=\"1\" class=\"dataframe\">\n",
       "  <thead>\n",
       "    <tr style=\"text-align: right;\">\n",
       "      <th></th>\n",
       "      <th>T_(N-6)</th>\n",
       "      <th>T_(N-5)</th>\n",
       "      <th>T_(N-4)</th>\n",
       "      <th>T_(N-3)</th>\n",
       "      <th>T_(N-2)</th>\n",
       "      <th>T_(N-1)</th>\n",
       "      <th>label T_N</th>\n",
       "    </tr>\n",
       "  </thead>\n",
       "  <tbody>\n",
       "    <tr>\n",
       "      <th>0</th>\n",
       "      <td>2.635313</td>\n",
       "      <td>2.740790</td>\n",
       "      <td>0.616929</td>\n",
       "      <td>-0.385975</td>\n",
       "      <td>-1.706448</td>\n",
       "      <td>-3.401328</td>\n",
       "      <td>-1.424408</td>\n",
       "    </tr>\n",
       "    <tr>\n",
       "      <th>1</th>\n",
       "      <td>2.740790</td>\n",
       "      <td>0.616929</td>\n",
       "      <td>-0.385975</td>\n",
       "      <td>-1.706448</td>\n",
       "      <td>-3.401328</td>\n",
       "      <td>-1.424408</td>\n",
       "      <td>-5.251681</td>\n",
       "    </tr>\n",
       "    <tr>\n",
       "      <th>2</th>\n",
       "      <td>0.616929</td>\n",
       "      <td>-0.385975</td>\n",
       "      <td>-1.706448</td>\n",
       "      <td>-3.401328</td>\n",
       "      <td>-1.424408</td>\n",
       "      <td>-5.251681</td>\n",
       "      <td>-3.944976</td>\n",
       "    </tr>\n",
       "    <tr>\n",
       "      <th>3</th>\n",
       "      <td>-0.385975</td>\n",
       "      <td>-1.706448</td>\n",
       "      <td>-3.401328</td>\n",
       "      <td>-1.424408</td>\n",
       "      <td>-5.251681</td>\n",
       "      <td>-3.944976</td>\n",
       "      <td>-4.290969</td>\n",
       "    </tr>\n",
       "    <tr>\n",
       "      <th>4</th>\n",
       "      <td>-1.706448</td>\n",
       "      <td>-3.401328</td>\n",
       "      <td>-1.424408</td>\n",
       "      <td>-5.251681</td>\n",
       "      <td>-3.944976</td>\n",
       "      <td>-4.290969</td>\n",
       "      <td>-1.528838</td>\n",
       "    </tr>\n",
       "    <tr>\n",
       "      <th>...</th>\n",
       "      <td>...</td>\n",
       "      <td>...</td>\n",
       "      <td>...</td>\n",
       "      <td>...</td>\n",
       "      <td>...</td>\n",
       "      <td>...</td>\n",
       "      <td>...</td>\n",
       "    </tr>\n",
       "    <tr>\n",
       "      <th>289</th>\n",
       "      <td>11.788794</td>\n",
       "      <td>10.556777</td>\n",
       "      <td>14.539995</td>\n",
       "      <td>15.808775</td>\n",
       "      <td>12.272530</td>\n",
       "      <td>12.028359</td>\n",
       "      <td>16.390593</td>\n",
       "    </tr>\n",
       "    <tr>\n",
       "      <th>290</th>\n",
       "      <td>10.556777</td>\n",
       "      <td>14.539995</td>\n",
       "      <td>15.808775</td>\n",
       "      <td>12.272530</td>\n",
       "      <td>12.028359</td>\n",
       "      <td>16.390593</td>\n",
       "      <td>12.373120</td>\n",
       "    </tr>\n",
       "    <tr>\n",
       "      <th>291</th>\n",
       "      <td>14.539995</td>\n",
       "      <td>15.808775</td>\n",
       "      <td>12.272530</td>\n",
       "      <td>12.028359</td>\n",
       "      <td>16.390593</td>\n",
       "      <td>12.373120</td>\n",
       "      <td>12.985960</td>\n",
       "    </tr>\n",
       "    <tr>\n",
       "      <th>292</th>\n",
       "      <td>15.808775</td>\n",
       "      <td>12.272530</td>\n",
       "      <td>12.028359</td>\n",
       "      <td>16.390593</td>\n",
       "      <td>12.373120</td>\n",
       "      <td>12.985960</td>\n",
       "      <td>16.083739</td>\n",
       "    </tr>\n",
       "    <tr>\n",
       "      <th>293</th>\n",
       "      <td>12.272530</td>\n",
       "      <td>12.028359</td>\n",
       "      <td>16.390593</td>\n",
       "      <td>12.373120</td>\n",
       "      <td>12.985960</td>\n",
       "      <td>16.083739</td>\n",
       "      <td>16.913528</td>\n",
       "    </tr>\n",
       "  </tbody>\n",
       "</table>\n",
       "<p>294 rows × 7 columns</p>\n",
       "</div>"
      ],
      "text/plain": [
       "       T_(N-6)    T_(N-5)    T_(N-4)    T_(N-3)    T_(N-2)    T_(N-1)  \\\n",
       "0     2.635313   2.740790   0.616929  -0.385975  -1.706448  -3.401328   \n",
       "1     2.740790   0.616929  -0.385975  -1.706448  -3.401328  -1.424408   \n",
       "2     0.616929  -0.385975  -1.706448  -3.401328  -1.424408  -5.251681   \n",
       "3    -0.385975  -1.706448  -3.401328  -1.424408  -5.251681  -3.944976   \n",
       "4    -1.706448  -3.401328  -1.424408  -5.251681  -3.944976  -4.290969   \n",
       "..         ...        ...        ...        ...        ...        ...   \n",
       "289  11.788794  10.556777  14.539995  15.808775  12.272530  12.028359   \n",
       "290  10.556777  14.539995  15.808775  12.272530  12.028359  16.390593   \n",
       "291  14.539995  15.808775  12.272530  12.028359  16.390593  12.373120   \n",
       "292  15.808775  12.272530  12.028359  16.390593  12.373120  12.985960   \n",
       "293  12.272530  12.028359  16.390593  12.373120  12.985960  16.083739   \n",
       "\n",
       "     label T_N  \n",
       "0    -1.424408  \n",
       "1    -5.251681  \n",
       "2    -3.944976  \n",
       "3    -4.290969  \n",
       "4    -1.528838  \n",
       "..         ...  \n",
       "289  16.390593  \n",
       "290  12.373120  \n",
       "291  12.985960  \n",
       "292  16.083739  \n",
       "293  16.913528  \n",
       "\n",
       "[294 rows x 7 columns]"
      ]
     },
     "execution_count": 9,
     "metadata": {},
     "output_type": "execute_result"
    }
   ],
   "source": [
    "Xtst = pd.DataFrame(X_test,columns = column_name)\n",
    "Xtst[\"label T_N\"] = y_test\n",
    "Xtst"
   ]
  },
  {
   "cell_type": "markdown",
   "metadata": {},
   "source": [
    "### Scaling Data"
   ]
  },
  {
   "cell_type": "code",
   "execution_count": 10,
   "metadata": {},
   "outputs": [],
   "source": [
    "from sklearn.preprocessing import MinMaxScaler"
   ]
  },
  {
   "cell_type": "code",
   "execution_count": 11,
   "metadata": {},
   "outputs": [],
   "source": [
    "scaler = MinMaxScaler()\n",
    "scaler.fit(X_train)\n",
    "X_train = scaler.transform(X_train)\n",
    "X_test = scaler.transform(X_test)"
   ]
  },
  {
   "cell_type": "markdown",
   "metadata": {},
   "source": [
    "## Building LSTM net"
   ]
  },
  {
   "cell_type": "code",
   "execution_count": 12,
   "metadata": {},
   "outputs": [],
   "source": [
    "import tensorflow as tf\n",
    "from tensorflow.keras.models import Sequential\n",
    "from tensorflow.keras.layers import Dense, Activation,LSTM"
   ]
  },
  {
   "cell_type": "code",
   "execution_count": 13,
   "metadata": {},
   "outputs": [],
   "source": [
    "model = Sequential()\n",
    "#model.add(LSTM(4, input_shape=(1, n_points)))\n",
    "model.add(LSTM(20))\n",
    "model.add(Dense(1))\n",
    "model.compile(loss='mean_squared_error', optimizer='adam')"
   ]
  },
  {
   "cell_type": "code",
   "execution_count": 14,
   "metadata": {},
   "outputs": [],
   "source": [
    "X_train = X_train.reshape((X_train.shape[0], 1, X_train.shape[1]))\n",
    "X_test = X_test.reshape( (X_test.shape[0], 1, X_test.shape[1]))"
   ]
  },
  {
   "cell_type": "code",
   "execution_count": 15,
   "metadata": {},
   "outputs": [
    {
     "name": "stdout",
     "output_type": "stream",
     "text": [
      "Epoch 1/20\n",
      "1200/1200 - 1s - loss: 86.4289\n",
      "Epoch 2/20\n",
      "1200/1200 - 1s - loss: 28.8871\n",
      "Epoch 3/20\n",
      "1200/1200 - 1s - loss: 8.0923\n",
      "Epoch 4/20\n",
      "1200/1200 - 1s - loss: 6.8688\n",
      "Epoch 5/20\n",
      "1200/1200 - 1s - loss: 6.7047\n",
      "Epoch 6/20\n",
      "1200/1200 - 1s - loss: 6.5271\n",
      "Epoch 7/20\n",
      "1200/1200 - 1s - loss: 6.4869\n",
      "Epoch 8/20\n",
      "1200/1200 - 1s - loss: 6.3821\n",
      "Epoch 9/20\n",
      "1200/1200 - 1s - loss: 6.2964\n",
      "Epoch 10/20\n",
      "1200/1200 - 1s - loss: 6.2197\n",
      "Epoch 11/20\n",
      "1200/1200 - 1s - loss: 6.1678\n",
      "Epoch 12/20\n",
      "1200/1200 - 1s - loss: 6.0826\n",
      "Epoch 13/20\n",
      "1200/1200 - 1s - loss: 5.9734\n",
      "Epoch 14/20\n",
      "1200/1200 - 1s - loss: 5.9019\n",
      "Epoch 15/20\n",
      "1200/1200 - 1s - loss: 5.8308\n",
      "Epoch 16/20\n",
      "1200/1200 - 1s - loss: 5.7832\n",
      "Epoch 17/20\n",
      "1200/1200 - 1s - loss: 5.7939\n",
      "Epoch 18/20\n",
      "1200/1200 - 1s - loss: 5.7703\n",
      "Epoch 19/20\n",
      "1200/1200 - 1s - loss: 5.7690\n",
      "Epoch 20/20\n",
      "1200/1200 - 1s - loss: 5.6727\n"
     ]
    },
    {
     "data": {
      "text/plain": [
       "<tensorflow.python.keras.callbacks.History at 0x25c522183d0>"
      ]
     },
     "execution_count": 15,
     "metadata": {},
     "output_type": "execute_result"
    }
   ],
   "source": [
    "model.fit(X_train, y_train, epochs=20, batch_size=1, verbose=2)"
   ]
  },
  {
   "cell_type": "markdown",
   "metadata": {},
   "source": [
    "Loss function plot"
   ]
  },
  {
   "cell_type": "code",
   "execution_count": 16,
   "metadata": {},
   "outputs": [
    {
     "data": {
      "text/plain": [
       "[<matplotlib.lines.Line2D at 0x25c55948340>]"
      ]
     },
     "execution_count": 16,
     "metadata": {},
     "output_type": "execute_result"
    },
    {
     "data": {
      "image/png": "[encoded data removed]",
      "text/plain": [
       "<Figure size 432x288 with 1 Axes>"
      ]
     },
     "metadata": {
      "needs_background": "light"
     },
     "output_type": "display_data"
    }
   ],
   "source": [
    "plt.plot(model.history.history[\"loss\"])"
   ]
  },
  {
   "cell_type": "markdown",
   "metadata": {},
   "source": [
    "## Model Evaluation"
   ]
  },
  {
   "cell_type": "code",
   "execution_count": 17,
   "metadata": {},
   "outputs": [],
   "source": [
    "training_score = model.evaluate(X_train,y_train,verbose=0)\n",
    "test_score = model.evaluate(X_test,y_test,verbose=0)"
   ]
  },
  {
   "cell_type": "code",
   "execution_count": 18,
   "metadata": {},
   "outputs": [
    {
     "data": {
      "text/plain": [
       "5.609509468078613"
      ]
     },
     "execution_count": 18,
     "metadata": {},
     "output_type": "execute_result"
    }
   ],
   "source": [
    "training_score"
   ]
  },
  {
   "cell_type": "code",
   "execution_count": 19,
   "metadata": {},
   "outputs": [
    {
     "data": {
      "text/plain": [
       "5.5338873863220215"
      ]
     },
     "execution_count": 19,
     "metadata": {},
     "output_type": "execute_result"
    }
   ],
   "source": [
    "test_score"
   ]
  },
  {
   "cell_type": "code",
   "execution_count": 20,
   "metadata": {},
   "outputs": [],
   "source": [
    "test_predictions = model.predict(X_test)"
   ]
  },
  {
   "cell_type": "code",
   "execution_count": 21,
   "metadata": {},
   "outputs": [],
   "source": [
    "summary = pd.DataFrame({\"test\" : y_test.reshape(-1,),\n",
    "                        \"prediction\":test_predictions.reshape(-1,)})"
   ]
  },
  {
   "cell_type": "code",
   "execution_count": 22,
   "metadata": {},
   "outputs": [
    {
     "data": {
      "text/html": [
       "<div>\n",
       "<style scoped>\n",
       "    .dataframe tbody tr th:only-of-type {\n",
       "        vertical-align: middle;\n",
       "    }\n",
       "\n",
       "    .dataframe tbody tr th {\n",
       "        vertical-align: top;\n",
       "    }\n",
       "\n",
       "    .dataframe thead th {\n",
       "        text-align: right;\n",
       "    }\n",
       "</style>\n",
       "<table border=\"1\" class=\"dataframe\">\n",
       "  <thead>\n",
       "    <tr style=\"text-align: right;\">\n",
       "      <th></th>\n",
       "      <th>test</th>\n",
       "      <th>prediction</th>\n",
       "    </tr>\n",
       "  </thead>\n",
       "  <tbody>\n",
       "    <tr>\n",
       "      <th>0</th>\n",
       "      <td>-1.424408</td>\n",
       "      <td>-0.444020</td>\n",
       "    </tr>\n",
       "    <tr>\n",
       "      <th>1</th>\n",
       "      <td>-5.251681</td>\n",
       "      <td>-0.915869</td>\n",
       "    </tr>\n",
       "    <tr>\n",
       "      <th>2</th>\n",
       "      <td>-3.944976</td>\n",
       "      <td>-2.306037</td>\n",
       "    </tr>\n",
       "    <tr>\n",
       "      <th>3</th>\n",
       "      <td>-4.290969</td>\n",
       "      <td>-3.224212</td>\n",
       "    </tr>\n",
       "    <tr>\n",
       "      <th>4</th>\n",
       "      <td>-1.528838</td>\n",
       "      <td>-3.296328</td>\n",
       "    </tr>\n",
       "    <tr>\n",
       "      <th>...</th>\n",
       "      <td>...</td>\n",
       "      <td>...</td>\n",
       "    </tr>\n",
       "    <tr>\n",
       "      <th>289</th>\n",
       "      <td>16.390593</td>\n",
       "      <td>12.369729</td>\n",
       "    </tr>\n",
       "    <tr>\n",
       "      <th>290</th>\n",
       "      <td>12.373120</td>\n",
       "      <td>13.314830</td>\n",
       "    </tr>\n",
       "    <tr>\n",
       "      <th>291</th>\n",
       "      <td>12.985960</td>\n",
       "      <td>12.902926</td>\n",
       "    </tr>\n",
       "    <tr>\n",
       "      <th>292</th>\n",
       "      <td>16.083739</td>\n",
       "      <td>12.486352</td>\n",
       "    </tr>\n",
       "    <tr>\n",
       "      <th>293</th>\n",
       "      <td>16.913528</td>\n",
       "      <td>13.343102</td>\n",
       "    </tr>\n",
       "  </tbody>\n",
       "</table>\n",
       "<p>294 rows × 2 columns</p>\n",
       "</div>"
      ],
      "text/plain": [
       "          test  prediction\n",
       "0    -1.424408   -0.444020\n",
       "1    -5.251681   -0.915869\n",
       "2    -3.944976   -2.306037\n",
       "3    -4.290969   -3.224212\n",
       "4    -1.528838   -3.296328\n",
       "..         ...         ...\n",
       "289  16.390593   12.369729\n",
       "290  12.373120   13.314830\n",
       "291  12.985960   12.902926\n",
       "292  16.083739   12.486352\n",
       "293  16.913528   13.343102\n",
       "\n",
       "[294 rows x 2 columns]"
      ]
     },
     "execution_count": 22,
     "metadata": {},
     "output_type": "execute_result"
    }
   ],
   "source": [
    "summary"
   ]
  },
  {
   "cell_type": "code",
   "execution_count": 23,
   "metadata": {},
   "outputs": [],
   "source": [
    "from sklearn.metrics import mean_absolute_error,mean_squared_error\n",
    "#TODO find other metrics"
   ]
  },
  {
   "cell_type": "code",
   "execution_count": 24,
   "metadata": {},
   "outputs": [
    {
     "data": {
      "text/plain": [
       "1.9945492062270602"
      ]
     },
     "execution_count": 24,
     "metadata": {},
     "output_type": "execute_result"
    }
   ],
   "source": [
    "mean_absolute_error(summary['test'],summary['prediction'])"
   ]
  },
  {
   "cell_type": "code",
   "execution_count": 25,
   "metadata": {},
   "outputs": [
    {
     "data": {
      "text/plain": [
       "5.533887793622951"
      ]
     },
     "execution_count": 25,
     "metadata": {},
     "output_type": "execute_result"
    }
   ],
   "source": [
    "mean_squared_error(summary['test'],summary['prediction'])"
   ]
  },
  {
   "cell_type": "markdown",
   "metadata": {},
   "source": [
    "Comparison of test data, prediction and relative error\n",
    "\n",
    "REMARK: I used only one point ahead prediction"
   ]
  },
  {
   "cell_type": "code",
   "execution_count": 26,
   "metadata": {},
   "outputs": [],
   "source": [
    "summary['rel_error'] = np.abs(summary['test']- summary['prediction']/summary['test'])"
   ]
  },
  {
   "cell_type": "code",
   "execution_count": 39,
   "metadata": {},
   "outputs": [
    {
     "data": {
      "text/html": [
       "<div>\n",
       "<style scoped>\n",
       "    .dataframe tbody tr th:only-of-type {\n",
       "        vertical-align: middle;\n",
       "    }\n",
       "\n",
       "    .dataframe tbody tr th {\n",
       "        vertical-align: top;\n",
       "    }\n",
       "\n",
       "    .dataframe thead th {\n",
       "        text-align: right;\n",
       "    }\n",
       "</style>\n",
       "<table border=\"1\" class=\"dataframe\">\n",
       "  <thead>\n",
       "    <tr style=\"text-align: right;\">\n",
       "      <th></th>\n",
       "      <th>test</th>\n",
       "      <th>prediction</th>\n",
       "      <th>rel_error</th>\n",
       "    </tr>\n",
       "  </thead>\n",
       "  <tbody>\n",
       "    <tr>\n",
       "      <th>0</th>\n",
       "      <td>-1.424408</td>\n",
       "      <td>-0.974080</td>\n",
       "      <td>2.108257</td>\n",
       "    </tr>\n",
       "    <tr>\n",
       "      <th>1</th>\n",
       "      <td>-5.251681</td>\n",
       "      <td>-1.392692</td>\n",
       "      <td>5.516871</td>\n",
       "    </tr>\n",
       "    <tr>\n",
       "      <th>2</th>\n",
       "      <td>-3.944976</td>\n",
       "      <td>-2.680241</td>\n",
       "      <td>4.624382</td>\n",
       "    </tr>\n",
       "    <tr>\n",
       "      <th>3</th>\n",
       "      <td>-4.290969</td>\n",
       "      <td>-3.645579</td>\n",
       "      <td>5.140562</td>\n",
       "    </tr>\n",
       "    <tr>\n",
       "      <th>4</th>\n",
       "      <td>-1.528838</td>\n",
       "      <td>-3.634652</td>\n",
       "      <td>3.906233</td>\n",
       "    </tr>\n",
       "    <tr>\n",
       "      <th>...</th>\n",
       "      <td>...</td>\n",
       "      <td>...</td>\n",
       "      <td>...</td>\n",
       "    </tr>\n",
       "    <tr>\n",
       "      <th>289</th>\n",
       "      <td>16.390593</td>\n",
       "      <td>12.304033</td>\n",
       "      <td>15.639917</td>\n",
       "    </tr>\n",
       "    <tr>\n",
       "      <th>290</th>\n",
       "      <td>12.373120</td>\n",
       "      <td>13.485767</td>\n",
       "      <td>11.283195</td>\n",
       "    </tr>\n",
       "    <tr>\n",
       "      <th>291</th>\n",
       "      <td>12.985960</td>\n",
       "      <td>13.084355</td>\n",
       "      <td>11.978383</td>\n",
       "    </tr>\n",
       "    <tr>\n",
       "      <th>292</th>\n",
       "      <td>16.083739</td>\n",
       "      <td>12.490599</td>\n",
       "      <td>15.307141</td>\n",
       "    </tr>\n",
       "    <tr>\n",
       "      <th>293</th>\n",
       "      <td>16.913528</td>\n",
       "      <td>13.536325</td>\n",
       "      <td>16.113203</td>\n",
       "    </tr>\n",
       "  </tbody>\n",
       "</table>\n",
       "<p>294 rows × 3 columns</p>\n",
       "</div>"
      ],
      "text/plain": [
       "          test  prediction  rel_error\n",
       "0    -1.424408   -0.974080   2.108257\n",
       "1    -5.251681   -1.392692   5.516871\n",
       "2    -3.944976   -2.680241   4.624382\n",
       "3    -4.290969   -3.645579   5.140562\n",
       "4    -1.528838   -3.634652   3.906233\n",
       "..         ...         ...        ...\n",
       "289  16.390593   12.304033  15.639917\n",
       "290  12.373120   13.485767  11.283195\n",
       "291  12.985960   13.084355  11.978383\n",
       "292  16.083739   12.490599  15.307141\n",
       "293  16.913528   13.536325  16.113203\n",
       "\n",
       "[294 rows x 3 columns]"
      ]
     },
     "execution_count": 39,
     "metadata": {},
     "output_type": "execute_result"
    }
   ],
   "source": [
    "summary"
   ]
  },
  {
   "cell_type": "code",
   "execution_count": 27,
   "metadata": {},
   "outputs": [
    {
     "data": {
      "text/plain": [
       "9.714140240415977"
      ]
     },
     "execution_count": 27,
     "metadata": {},
     "output_type": "execute_result"
    }
   ],
   "source": [
    "summary['rel_error'].mean()"
   ]
  },
  {
   "cell_type": "code",
   "execution_count": 28,
   "metadata": {},
   "outputs": [
    {
     "data": {
      "text/plain": [
       "5.104819701244548"
      ]
     },
     "execution_count": 28,
     "metadata": {},
     "output_type": "execute_result"
    }
   ],
   "source": [
    "summary['rel_error'].std()"
   ]
  },
  {
   "cell_type": "markdown",
   "metadata": {},
   "source": [
    "#### Saving model to disc"
   ]
  },
  {
   "cell_type": "code",
   "execution_count": 29,
   "metadata": {},
   "outputs": [],
   "source": [
    "from tensorflow.keras.models import load_model"
   ]
  },
  {
   "cell_type": "code",
   "execution_count": 30,
   "metadata": {},
   "outputs": [],
   "source": [
    "model.save('lstm.h5')  # creates a HDF5 file 'my_model.h5'"
   ]
  },
  {
   "cell_type": "code",
   "execution_count": 31,
   "metadata": {},
   "outputs": [],
   "source": [
    "later_model = load_model('lstm.h5')"
   ]
  },
  {
   "cell_type": "markdown",
   "metadata": {},
   "source": [
    "## Random Forrest\n",
    "\n",
    "For comparison, the same thing with Random Forest estimator"
   ]
  },
  {
   "cell_type": "code",
   "execution_count": 32,
   "metadata": {},
   "outputs": [],
   "source": [
    "from sklearn.ensemble import RandomForestRegressor"
   ]
  },
  {
   "cell_type": "code",
   "execution_count": 33,
   "metadata": {},
   "outputs": [],
   "source": [
    "rf = RandomForestRegressor(n_estimators=200)"
   ]
  },
  {
   "cell_type": "code",
   "execution_count": 34,
   "metadata": {},
   "outputs": [
    {
     "data": {
      "text/plain": [
       "RandomForestRegressor(n_estimators=200)"
      ]
     },
     "execution_count": 34,
     "metadata": {},
     "output_type": "execute_result"
    }
   ],
   "source": [
    "rf.fit(X_train.reshape(-1,n_points),y_train)"
   ]
  },
  {
   "cell_type": "code",
   "execution_count": 35,
   "metadata": {},
   "outputs": [],
   "source": [
    "rf_prediction = rf.predict(X_test.reshape(-1,n_points))"
   ]
  },
  {
   "cell_type": "code",
   "execution_count": 36,
   "metadata": {},
   "outputs": [],
   "source": [
    "rf_results = pd.DataFrame({'prediction': rf_prediction, 'test' : y_test})"
   ]
  },
  {
   "cell_type": "code",
   "execution_count": 37,
   "metadata": {},
   "outputs": [
    {
     "data": {
      "text/html": [
       "<div>\n",
       "<style scoped>\n",
       "    .dataframe tbody tr th:only-of-type {\n",
       "        vertical-align: middle;\n",
       "    }\n",
       "\n",
       "    .dataframe tbody tr th {\n",
       "        vertical-align: top;\n",
       "    }\n",
       "\n",
       "    .dataframe thead th {\n",
       "        text-align: right;\n",
       "    }\n",
       "</style>\n",
       "<table border=\"1\" class=\"dataframe\">\n",
       "  <thead>\n",
       "    <tr style=\"text-align: right;\">\n",
       "      <th></th>\n",
       "      <th>prediction</th>\n",
       "      <th>test</th>\n",
       "      <th>rel_error</th>\n",
       "    </tr>\n",
       "  </thead>\n",
       "  <tbody>\n",
       "    <tr>\n",
       "      <th>0</th>\n",
       "      <td>-1.237597</td>\n",
       "      <td>-1.424408</td>\n",
       "      <td>2.293258</td>\n",
       "    </tr>\n",
       "    <tr>\n",
       "      <th>1</th>\n",
       "      <td>-1.997437</td>\n",
       "      <td>-5.251681</td>\n",
       "      <td>5.632024</td>\n",
       "    </tr>\n",
       "    <tr>\n",
       "      <th>2</th>\n",
       "      <td>-2.123512</td>\n",
       "      <td>-3.944976</td>\n",
       "      <td>4.483259</td>\n",
       "    </tr>\n",
       "    <tr>\n",
       "      <th>3</th>\n",
       "      <td>-4.179360</td>\n",
       "      <td>-4.290969</td>\n",
       "      <td>5.264958</td>\n",
       "    </tr>\n",
       "    <tr>\n",
       "      <th>4</th>\n",
       "      <td>-3.733839</td>\n",
       "      <td>-1.528838</td>\n",
       "      <td>3.971111</td>\n",
       "    </tr>\n",
       "    <tr>\n",
       "      <th>...</th>\n",
       "      <td>...</td>\n",
       "      <td>...</td>\n",
       "      <td>...</td>\n",
       "    </tr>\n",
       "    <tr>\n",
       "      <th>289</th>\n",
       "      <td>13.788987</td>\n",
       "      <td>16.390593</td>\n",
       "      <td>15.549319</td>\n",
       "    </tr>\n",
       "    <tr>\n",
       "      <th>290</th>\n",
       "      <td>13.287946</td>\n",
       "      <td>12.373120</td>\n",
       "      <td>11.299183</td>\n",
       "    </tr>\n",
       "    <tr>\n",
       "      <th>291</th>\n",
       "      <td>13.654177</td>\n",
       "      <td>12.985960</td>\n",
       "      <td>11.934503</td>\n",
       "    </tr>\n",
       "    <tr>\n",
       "      <th>292</th>\n",
       "      <td>14.063802</td>\n",
       "      <td>16.083739</td>\n",
       "      <td>15.209328</td>\n",
       "    </tr>\n",
       "    <tr>\n",
       "      <th>293</th>\n",
       "      <td>13.614145</td>\n",
       "      <td>16.913528</td>\n",
       "      <td>16.108602</td>\n",
       "    </tr>\n",
       "  </tbody>\n",
       "</table>\n",
       "<p>294 rows × 3 columns</p>\n",
       "</div>"
      ],
      "text/plain": [
       "     prediction       test  rel_error\n",
       "0     -1.237597  -1.424408   2.293258\n",
       "1     -1.997437  -5.251681   5.632024\n",
       "2     -2.123512  -3.944976   4.483259\n",
       "3     -4.179360  -4.290969   5.264958\n",
       "4     -3.733839  -1.528838   3.971111\n",
       "..          ...        ...        ...\n",
       "289   13.788987  16.390593  15.549319\n",
       "290   13.287946  12.373120  11.299183\n",
       "291   13.654177  12.985960  11.934503\n",
       "292   14.063802  16.083739  15.209328\n",
       "293   13.614145  16.913528  16.108602\n",
       "\n",
       "[294 rows x 3 columns]"
      ]
     },
     "execution_count": 37,
     "metadata": {},
     "output_type": "execute_result"
    }
   ],
   "source": [
    "rf_results ['rel_error'] = np.abs(rf_results['test']- rf_results['prediction']/rf_results ['test'])\n",
    "rf_results"
   ]
  },
  {
   "cell_type": "code",
   "execution_count": 38,
   "metadata": {},
   "outputs": [
    {
     "data": {
      "text/plain": [
       "9.644863595483622"
      ]
     },
     "execution_count": 38,
     "metadata": {},
     "output_type": "execute_result"
    }
   ],
   "source": [
    "rf_results['rel_error'].mean()"
   ]
  },
  {
   "cell_type": "code",
   "execution_count": 39,
   "metadata": {},
   "outputs": [
    {
     "data": {
      "text/plain": [
       "5.92045924768025"
      ]
     },
     "execution_count": 39,
     "metadata": {},
     "output_type": "execute_result"
    }
   ],
   "source": [
    "mean_squared_error(rf_results['test'],rf_results['prediction'])"
   ]
  },
  {
   "cell_type": "markdown",
   "metadata": {},
   "source": [
    "## Questions:\n",
    "\n",
    "\n",
    "1. HHH"
   ]
  },
  {
   "cell_type": "code",
   "execution_count": null,
   "metadata": {},
   "outputs": [],
   "source": []
  }
 ],
 "metadata": {
  "kernelspec": {
   "display_name": "Python 3",
   "language": "python",
   "name": "python3"
  },
  "language_info": {
   "codemirror_mode": {
    "name": "ipython",
    "version": 3
   },
   "file_extension": ".py",
   "mimetype": "text/x-python",
   "name": "python",
   "nbconvert_exporter": "python",
   "pygments_lexer": "ipython3",
   "version": "3.8.5"
  }
 },
 "nbformat": 4,
 "nbformat_minor": 4
}
