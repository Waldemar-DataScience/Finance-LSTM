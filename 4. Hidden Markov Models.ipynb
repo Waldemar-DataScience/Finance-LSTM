{
 "cells": [
  {
   "cell_type": "markdown",
   "id": "radio-failing",
   "metadata": {},
   "source": [
    " modyfied code from book:\n",
    " \n",
    "\n",
    "# Hands-On Markov Models with Python\n",
    "\n",
    "## By AnkurAnkan, Abinash Panda\n",
    "### September 2018\n",
    "\n",
    " https://www.packtpub.com/product/hands-on-markov-models-with-python/9781788625449"
   ]
  },
  {
   "cell_type": "code",
   "execution_count": 1,
   "id": "effective-depression",
   "metadata": {},
   "outputs": [],
   "source": [
    "import warnings\n",
    "import itertools\n",
    "import pandas as pd\n",
    "import numpy as np\n",
    "import matplotlib.pyplot as plt\n",
    "from hmmlearn.hmm import GaussianHMM\n",
    "from sklearn.model_selection import train_test_split\n",
    "from tqdm import tqdm\n",
    "\n",
    "warnings.filterwarnings(\"ignore\")\n",
    "# Change plot style to ggplot (for better and more aesthetic visualisation)\n",
    "plt.style.use('ggplot')\n",
    "\n",
    "\n",
    "class StockPredictor(object):\n",
    "    def __init__(self, company, test_size=0.10,\n",
    "                 n_hidden_states=4, n_latency_days=10,\n",
    "                 n_steps_frac_change=50, n_steps_frac_high=10,\n",
    "                 n_steps_frac_low=10):\n",
    "    \n",
    "\n",
    "        self.company = company\n",
    "        self.n_latency_days = n_latency_days\n",
    "\n",
    "        self.hmm = GaussianHMM(n_components=n_hidden_states) #domyslne 4 stany\n",
    "\n",
    "        self._split_train_test_data(test_size)\n",
    "\n",
    "        self._compute_all_possible_outcomes(n_steps_frac_change, n_steps_frac_high, n_steps_frac_low)\n",
    "\n",
    "\n",
    "    def _split_train_test_data(self, test_size):\n",
    "        \n",
    "        self.data = pd.read_csv('{company}.csv'.format(company=self.company),header=0)\n",
    "\n",
    "        _train_data, test_data = train_test_split(self.data, test_size=test_size, shuffle=False)\n",
    "\n",
    "        self._train_data = _train_data\n",
    "        self._test_data = test_data\n",
    "\n",
    "    @staticmethod\n",
    "    def _extract_features(data):\n",
    "        #calculating featers\n",
    "        \n",
    "        open_price = np.array(data['open'])\n",
    "        close_price = np.array(data['close'])\n",
    "        high_price = np.array(data['high'])\n",
    "        low_price = np.array(data['low'])\n",
    "\n",
    "        # Compute the fraction change in close, high and low prices\n",
    "        # which would be used as a feature\n",
    "        frac_change = (close_price - open_price) / open_price\n",
    "        frac_high = (high_price - open_price) / open_price\n",
    "        frac_low = (open_price - low_price) / open_price\n",
    "        \n",
    "        return np.column_stack((frac_change, frac_high, frac_low))\n",
    "\n",
    "    def fit(self):\n",
    "        # fitting model using calculating featers\n",
    "        \n",
    "        \n",
    "        feature_vector = StockPredictor._extract_features(self._train_data)\n",
    "        self.temp_feature_vector = feature_vector\n",
    "        \n",
    "        self.hmm.fit(feature_vector)\n",
    "\n",
    "    def _compute_all_possible_outcomes(self, n_steps_frac_change,\n",
    "                                       n_steps_frac_high, n_steps_frac_low):\n",
    "        \n",
    "        # genarating categrical outcomes\n",
    "        \n",
    "        frac_change_range = np.linspace(-0.1, 0.1, n_steps_frac_change)\n",
    "        frac_high_range = np.linspace(0, 0.1, n_steps_frac_high)\n",
    "        frac_low_range = np.linspace(0, 0.1, n_steps_frac_low)\n",
    "\n",
    "        self._possible_outcomes = np.array(list(itertools.product(\n",
    "            frac_change_range, frac_high_range, frac_low_range)))\n",
    "        \n",
    "\n",
    "    def _get_most_probable_outcome(self, day_index):\n",
    "       \n",
    "        # choosing most probable output\n",
    "        \n",
    "        previous_data_start_index = max(0, day_index - self.n_latency_days) #latency domyslne 10\n",
    "        previous_data_end_index = max(0, day_index - 1)\n",
    "        previous_data = self._test_data.iloc[previous_data_end_index: previous_data_start_index] # tak bylo\n",
    "       \n",
    "        previous_data_features = StockPredictor._extract_features(previous_data)\n",
    "        n = 0\n",
    "        outcome_score = []\n",
    "        for possible_outcome in self._possible_outcomes:\n",
    "            total_data = np.row_stack((previous_data_features, possible_outcome))\n",
    "           \n",
    "            n+=1\n",
    "            outcome_score.append(self.hmm.score(total_data))\n",
    "       \n",
    "        most_probable_outcome = self._possible_outcomes[np.argmax(outcome_score)]\n",
    "\n",
    "        return most_probable_outcome\n",
    "\n",
    "    def predict_close_price(self, day_index):\n",
    "       \n",
    "        open_price = self._test_data.iloc[day_index]['open']\n",
    "        predicted_frac_change, _, _ = self._get_most_probable_outcome(day_index)\n",
    "        return open_price * (1 + predicted_frac_change)\n",
    "\n",
    "    def predict_close_prices_for_days(self, days, with_plot=False):\n",
    "        # wywolane bezposrednio\n",
    "        \n",
    "        predicted_close_prices = []\n",
    "        for day_index in tqdm(range(days)):\n",
    "            predicted_close_prices.append(self.predict_close_price(day_index))\n",
    "      \n",
    "        if with_plot:\n",
    "            test_data = self._test_data[0: days]\n",
    "            days = np.array(test_data['Date'], dtype=\"datetime64[ms]\")\n",
    "            actual_close_prices = test_data['close']\n",
    "\n",
    "            fig = plt.figure()\n",
    "\n",
    "            self.test = actual_close_prices\n",
    "            self.prediction = predicted_close_prices\n",
    "            \n",
    "            axes = fig.add_subplot(111)\n",
    "            axes.plot(days, actual_close_prices, 'bo-', label=\"actual\")\n",
    "            axes.plot(days, predicted_close_prices, 'r+-', label=\"predicted\")\n",
    "            #axes.set_title('{company}'.format(company=self.company))\n",
    "            axes.set_title('S&P')\n",
    "\n",
    "            fig.autofmt_xdate()\n",
    "\n",
    "            plt.legend()\n",
    "            plt.show()\n",
    "\n",
    "        \n",
    "        \n",
    "        return predicted_close_prices"
   ]
  },
  {
   "cell_type": "code",
   "execution_count": 3,
   "id": "compliant-chase",
   "metadata": {},
   "outputs": [],
   "source": [
    "stock_predictor = StockPredictor(\"SnP\")\n",
    "stock_predictor.fit()\n"
   ]
  },
  {
   "cell_type": "code",
   "execution_count": 5,
   "id": "killing-pattern",
   "metadata": {},
   "outputs": [
    {
     "name": "stderr",
     "output_type": "stream",
     "text": [
      "100%|██████████████████████████████████████████████████████████████████████████████████| 50/50 [01:07<00:00,  1.35s/it]\n"
     ]
    },
    {
     "data": {
      "image/png": "[encoded data removed]",
      "text/plain": [
       "<Figure size 432x288 with 1 Axes>"
      ]
     },
     "metadata": {},
     "output_type": "display_data"
    }
   ],
   "source": [
    "a = stock_predictor.predict_close_prices_for_days(50, with_plot=True)"
   ]
  },
  {
   "cell_type": "code",
   "execution_count": 6,
   "id": "suspected-bracelet",
   "metadata": {},
   "outputs": [
    {
     "name": "stdout",
     "output_type": "stream",
     "text": [
      "Model relative error is: 0.47 %\n"
     ]
    }
   ],
   "source": [
    "def hmm_score(test,prediction):\n",
    "# scores the relative error of prediction \n",
    "    np_test = np.array(test)\n",
    "    np_pred = np.array(prediction)\n",
    "    score = np.abs((np_test - np_pred)/np_test)\n",
    "    \n",
    "    return np.mean(score)\n",
    "\n",
    "\n",
    "\n",
    "score = hmm_score(stock_predictor.test,stock_predictor.prediction)\n",
    "print(f\"Model relative error is: {100*score:.2f} %\")\n",
    "\n"
   ]
  },
  {
   "cell_type": "code",
   "execution_count": null,
   "id": "solar-arena",
   "metadata": {},
   "outputs": [],
   "source": []
  }
 ],
 "metadata": {
  "kernelspec": {
   "display_name": "Python 3",
   "language": "python",
   "name": "python3"
  },
  "language_info": {
   "codemirror_mode": {
    "name": "ipython",
    "version": 3
   },
   "file_extension": ".py",
   "mimetype": "text/x-python",
   "name": "python",
   "nbconvert_exporter": "python",
   "pygments_lexer": "ipython3",
   "version": "3.8.5"
  }
 },
 "nbformat": 4,
 "nbformat_minor": 5
}
