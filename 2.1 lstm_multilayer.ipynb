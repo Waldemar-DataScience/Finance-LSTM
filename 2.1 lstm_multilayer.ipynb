{
 "cells": [
  {
   "cell_type": "code",
   "execution_count": 1,
   "metadata": {},
   "outputs": [],
   "source": [
    "import pandas as pd\n",
    "import numpy as np\n",
    "import matplotlib.pyplot as plt"
   ]
  },
  {
   "cell_type": "markdown",
   "metadata": {},
   "source": [
    "Data reading"
   ]
  },
  {
   "cell_type": "code",
   "execution_count": 2,
   "metadata": {},
   "outputs": [],
   "source": [
    "#raw_data = pd.read_csv(\"raw_data.csv\")\n",
    "raw_data = pd.read_csv(\"smooth_raw_data.csv\")\n"
   ]
  },
  {
   "cell_type": "code",
   "execution_count": 3,
   "metadata": {},
   "outputs": [
    {
     "data": {
      "text/html": [
       "<div>\n",
       "<style scoped>\n",
       "    .dataframe tbody tr th:only-of-type {\n",
       "        vertical-align: middle;\n",
       "    }\n",
       "\n",
       "    .dataframe tbody tr th {\n",
       "        vertical-align: top;\n",
       "    }\n",
       "\n",
       "    .dataframe thead th {\n",
       "        text-align: right;\n",
       "    }\n",
       "</style>\n",
       "<table border=\"1\" class=\"dataframe\">\n",
       "  <thead>\n",
       "    <tr style=\"text-align: right;\">\n",
       "      <th></th>\n",
       "      <th>Sales</th>\n",
       "      <th>Item</th>\n",
       "    </tr>\n",
       "  </thead>\n",
       "  <tbody>\n",
       "    <tr>\n",
       "      <th>0</th>\n",
       "      <td>-0.048506</td>\n",
       "      <td>IT001</td>\n",
       "    </tr>\n",
       "    <tr>\n",
       "      <th>1</th>\n",
       "      <td>0.019767</td>\n",
       "      <td>IT001</td>\n",
       "    </tr>\n",
       "    <tr>\n",
       "      <th>2</th>\n",
       "      <td>0.040116</td>\n",
       "      <td>IT001</td>\n",
       "    </tr>\n",
       "    <tr>\n",
       "      <th>3</th>\n",
       "      <td>-0.067794</td>\n",
       "      <td>IT001</td>\n",
       "    </tr>\n",
       "    <tr>\n",
       "      <th>4</th>\n",
       "      <td>0.147107</td>\n",
       "      <td>IT001</td>\n",
       "    </tr>\n",
       "    <tr>\n",
       "      <th>5</th>\n",
       "      <td>0.107668</td>\n",
       "      <td>IT001</td>\n",
       "    </tr>\n",
       "    <tr>\n",
       "      <th>6</th>\n",
       "      <td>0.053774</td>\n",
       "      <td>IT001</td>\n",
       "    </tr>\n",
       "    <tr>\n",
       "      <th>7</th>\n",
       "      <td>0.233600</td>\n",
       "      <td>IT001</td>\n",
       "    </tr>\n",
       "  </tbody>\n",
       "</table>\n",
       "</div>"
      ],
      "text/plain": [
       "      Sales   Item\n",
       "0 -0.048506  IT001\n",
       "1  0.019767  IT001\n",
       "2  0.040116  IT001\n",
       "3 -0.067794  IT001\n",
       "4  0.147107  IT001\n",
       "5  0.107668  IT001\n",
       "6  0.053774  IT001\n",
       "7  0.233600  IT001"
      ]
     },
     "execution_count": 3,
     "metadata": {},
     "output_type": "execute_result"
    }
   ],
   "source": [
    "raw_data.head(8)"
   ]
  },
  {
   "cell_type": "markdown",
   "metadata": {},
   "source": [
    "### Train test split\n",
    "\n",
    "Since the data is a sequence we cannot chose them randomly but to choose a cutoff of train data (80% first points)."
   ]
  },
  {
   "cell_type": "code",
   "execution_count": 4,
   "metadata": {},
   "outputs": [],
   "source": [
    "n_points = 6#lookback \n",
    "# train test split\n",
    "split = int(0.8 * len(raw_data))\n",
    "train = raw_data[\"Sales\"].values[:split+n_points] #little overlaping, extra n_points, index split show first column, we need n_points more\n",
    "test = raw_data[\"Sales\"].values[split:]"
   ]
  },
  {
   "cell_type": "markdown",
   "metadata": {},
   "source": [
    "## Building dataset input to the deep learnig model \n",
    "\n",
    "*n_points* (N) is lookback number. it shows how many previous time  points in sequence is taken to the sample (row) in training/testing data. last column  is a label. "
   ]
  },
  {
   "cell_type": "code",
   "execution_count": 5,
   "metadata": {},
   "outputs": [],
   "source": [
    "def make_input(data,n_points):\n",
    "    '''\n",
    "    Function generating the np.array with train/test points as an input for ML models\n",
    "    '''\n",
    "    n_rows = len(data)\n",
    "    result = np.empty((n_rows - n_points,n_points))\n",
    "    for i in range(n_rows-n_points):\n",
    "                result[i,:] = data[i : i+n_points]\n",
    "    return result"
   ]
  },
  {
   "cell_type": "code",
   "execution_count": 6,
   "metadata": {},
   "outputs": [],
   "source": [
    "data = raw_data[\"Sales\"].values\n",
    "X_train  = make_input(train,n_points)\n",
    "X_test = make_input(test,n_points)\n",
    "y_train = raw_data[\"Sales\"].values[n_points:split+n_points]\n",
    "y_test = raw_data[\"Sales\"].values[split+n_points:]"
   ]
  },
  {
   "cell_type": "code",
   "execution_count": 7,
   "metadata": {},
   "outputs": [
    {
     "data": {
      "text/html": [
       "<div>\n",
       "<style scoped>\n",
       "    .dataframe tbody tr th:only-of-type {\n",
       "        vertical-align: middle;\n",
       "    }\n",
       "\n",
       "    .dataframe tbody tr th {\n",
       "        vertical-align: top;\n",
       "    }\n",
       "\n",
       "    .dataframe thead th {\n",
       "        text-align: right;\n",
       "    }\n",
       "</style>\n",
       "<table border=\"1\" class=\"dataframe\">\n",
       "  <thead>\n",
       "    <tr style=\"text-align: right;\">\n",
       "      <th></th>\n",
       "      <th>T_(N-6)</th>\n",
       "      <th>T_(N-5)</th>\n",
       "      <th>T_(N-4)</th>\n",
       "      <th>T_(N-3)</th>\n",
       "      <th>T_(N-2)</th>\n",
       "      <th>T_(N-1)</th>\n",
       "      <th>label T_N</th>\n",
       "    </tr>\n",
       "  </thead>\n",
       "  <tbody>\n",
       "    <tr>\n",
       "      <th>0</th>\n",
       "      <td>-0.048506</td>\n",
       "      <td>0.019767</td>\n",
       "      <td>0.040116</td>\n",
       "      <td>-0.067794</td>\n",
       "      <td>0.147107</td>\n",
       "      <td>0.107668</td>\n",
       "      <td>0.053774</td>\n",
       "    </tr>\n",
       "    <tr>\n",
       "      <th>1</th>\n",
       "      <td>0.019767</td>\n",
       "      <td>0.040116</td>\n",
       "      <td>-0.067794</td>\n",
       "      <td>0.147107</td>\n",
       "      <td>0.107668</td>\n",
       "      <td>0.053774</td>\n",
       "      <td>0.233600</td>\n",
       "    </tr>\n",
       "    <tr>\n",
       "      <th>2</th>\n",
       "      <td>0.040116</td>\n",
       "      <td>-0.067794</td>\n",
       "      <td>0.147107</td>\n",
       "      <td>0.107668</td>\n",
       "      <td>0.053774</td>\n",
       "      <td>0.233600</td>\n",
       "      <td>0.122611</td>\n",
       "    </tr>\n",
       "    <tr>\n",
       "      <th>3</th>\n",
       "      <td>-0.067794</td>\n",
       "      <td>0.147107</td>\n",
       "      <td>0.107668</td>\n",
       "      <td>0.053774</td>\n",
       "      <td>0.233600</td>\n",
       "      <td>0.122611</td>\n",
       "      <td>0.147552</td>\n",
       "    </tr>\n",
       "    <tr>\n",
       "      <th>4</th>\n",
       "      <td>0.147107</td>\n",
       "      <td>0.107668</td>\n",
       "      <td>0.053774</td>\n",
       "      <td>0.233600</td>\n",
       "      <td>0.122611</td>\n",
       "      <td>0.147552</td>\n",
       "      <td>0.076243</td>\n",
       "    </tr>\n",
       "    <tr>\n",
       "      <th>...</th>\n",
       "      <td>...</td>\n",
       "      <td>...</td>\n",
       "      <td>...</td>\n",
       "      <td>...</td>\n",
       "      <td>...</td>\n",
       "      <td>...</td>\n",
       "      <td>...</td>\n",
       "    </tr>\n",
       "    <tr>\n",
       "      <th>1195</th>\n",
       "      <td>-1.035467</td>\n",
       "      <td>-1.288729</td>\n",
       "      <td>-1.179826</td>\n",
       "      <td>-1.061486</td>\n",
       "      <td>-1.235705</td>\n",
       "      <td>-1.312734</td>\n",
       "      <td>-1.082842</td>\n",
       "    </tr>\n",
       "    <tr>\n",
       "      <th>1196</th>\n",
       "      <td>-1.288729</td>\n",
       "      <td>-1.179826</td>\n",
       "      <td>-1.061486</td>\n",
       "      <td>-1.235705</td>\n",
       "      <td>-1.312734</td>\n",
       "      <td>-1.082842</td>\n",
       "      <td>-1.006755</td>\n",
       "    </tr>\n",
       "    <tr>\n",
       "      <th>1197</th>\n",
       "      <td>-1.179826</td>\n",
       "      <td>-1.061486</td>\n",
       "      <td>-1.235705</td>\n",
       "      <td>-1.312734</td>\n",
       "      <td>-1.082842</td>\n",
       "      <td>-1.006755</td>\n",
       "      <td>-1.054599</td>\n",
       "    </tr>\n",
       "    <tr>\n",
       "      <th>1198</th>\n",
       "      <td>-1.061486</td>\n",
       "      <td>-1.235705</td>\n",
       "      <td>-1.312734</td>\n",
       "      <td>-1.082842</td>\n",
       "      <td>-1.006755</td>\n",
       "      <td>-1.054599</td>\n",
       "      <td>-1.135403</td>\n",
       "    </tr>\n",
       "    <tr>\n",
       "      <th>1199</th>\n",
       "      <td>-1.235705</td>\n",
       "      <td>-1.312734</td>\n",
       "      <td>-1.082842</td>\n",
       "      <td>-1.006755</td>\n",
       "      <td>-1.054599</td>\n",
       "      <td>-1.135403</td>\n",
       "      <td>-1.001528</td>\n",
       "    </tr>\n",
       "  </tbody>\n",
       "</table>\n",
       "<p>1200 rows × 7 columns</p>\n",
       "</div>"
      ],
      "text/plain": [
       "       T_(N-6)   T_(N-5)   T_(N-4)   T_(N-3)   T_(N-2)   T_(N-1)  label T_N\n",
       "0    -0.048506  0.019767  0.040116 -0.067794  0.147107  0.107668   0.053774\n",
       "1     0.019767  0.040116 -0.067794  0.147107  0.107668  0.053774   0.233600\n",
       "2     0.040116 -0.067794  0.147107  0.107668  0.053774  0.233600   0.122611\n",
       "3    -0.067794  0.147107  0.107668  0.053774  0.233600  0.122611   0.147552\n",
       "4     0.147107  0.107668  0.053774  0.233600  0.122611  0.147552   0.076243\n",
       "...        ...       ...       ...       ...       ...       ...        ...\n",
       "1195 -1.035467 -1.288729 -1.179826 -1.061486 -1.235705 -1.312734  -1.082842\n",
       "1196 -1.288729 -1.179826 -1.061486 -1.235705 -1.312734 -1.082842  -1.006755\n",
       "1197 -1.179826 -1.061486 -1.235705 -1.312734 -1.082842 -1.006755  -1.054599\n",
       "1198 -1.061486 -1.235705 -1.312734 -1.082842 -1.006755 -1.054599  -1.135403\n",
       "1199 -1.235705 -1.312734 -1.082842 -1.006755 -1.054599 -1.135403  -1.001528\n",
       "\n",
       "[1200 rows x 7 columns]"
      ]
     },
     "execution_count": 7,
     "metadata": {},
     "output_type": "execute_result"
    }
   ],
   "source": [
    "#data visualisation\n",
    "column_name = [f\"T_(N-{i})\" for i in range(n_points,0,-1)]\n",
    "Xtrn = pd.DataFrame(X_train,columns = column_name)\n",
    "Xtrn[\"label T_N\"] = y_train\n",
    "Xtrn"
   ]
  },
  {
   "cell_type": "code",
   "execution_count": 8,
   "metadata": {},
   "outputs": [
    {
     "data": {
      "text/html": [
       "<div>\n",
       "<style scoped>\n",
       "    .dataframe tbody tr th:only-of-type {\n",
       "        vertical-align: middle;\n",
       "    }\n",
       "\n",
       "    .dataframe tbody tr th {\n",
       "        vertical-align: top;\n",
       "    }\n",
       "\n",
       "    .dataframe thead th {\n",
       "        text-align: right;\n",
       "    }\n",
       "</style>\n",
       "<table border=\"1\" class=\"dataframe\">\n",
       "  <thead>\n",
       "    <tr style=\"text-align: right;\">\n",
       "      <th></th>\n",
       "      <th>T_(N-6)</th>\n",
       "      <th>T_(N-5)</th>\n",
       "      <th>T_(N-4)</th>\n",
       "      <th>T_(N-3)</th>\n",
       "      <th>T_(N-2)</th>\n",
       "      <th>T_(N-1)</th>\n",
       "      <th>label T_N</th>\n",
       "    </tr>\n",
       "  </thead>\n",
       "  <tbody>\n",
       "    <tr>\n",
       "      <th>0</th>\n",
       "      <td>-1.312734</td>\n",
       "      <td>-1.082842</td>\n",
       "      <td>-1.006755</td>\n",
       "      <td>-1.054599</td>\n",
       "      <td>-1.135403</td>\n",
       "      <td>-1.001528</td>\n",
       "      <td>-1.123523</td>\n",
       "    </tr>\n",
       "    <tr>\n",
       "      <th>1</th>\n",
       "      <td>-1.082842</td>\n",
       "      <td>-1.006755</td>\n",
       "      <td>-1.054599</td>\n",
       "      <td>-1.135403</td>\n",
       "      <td>-1.001528</td>\n",
       "      <td>-1.123523</td>\n",
       "      <td>-1.232927</td>\n",
       "    </tr>\n",
       "    <tr>\n",
       "      <th>2</th>\n",
       "      <td>-1.006755</td>\n",
       "      <td>-1.054599</td>\n",
       "      <td>-1.135403</td>\n",
       "      <td>-1.001528</td>\n",
       "      <td>-1.123523</td>\n",
       "      <td>-1.232927</td>\n",
       "      <td>-1.011258</td>\n",
       "    </tr>\n",
       "    <tr>\n",
       "      <th>3</th>\n",
       "      <td>-1.054599</td>\n",
       "      <td>-1.135403</td>\n",
       "      <td>-1.001528</td>\n",
       "      <td>-1.123523</td>\n",
       "      <td>-1.232927</td>\n",
       "      <td>-1.011258</td>\n",
       "      <td>-1.194356</td>\n",
       "    </tr>\n",
       "    <tr>\n",
       "      <th>4</th>\n",
       "      <td>-1.135403</td>\n",
       "      <td>-1.001528</td>\n",
       "      <td>-1.123523</td>\n",
       "      <td>-1.232927</td>\n",
       "      <td>-1.011258</td>\n",
       "      <td>-1.194356</td>\n",
       "      <td>-0.873230</td>\n",
       "    </tr>\n",
       "    <tr>\n",
       "      <th>...</th>\n",
       "      <td>...</td>\n",
       "      <td>...</td>\n",
       "      <td>...</td>\n",
       "      <td>...</td>\n",
       "      <td>...</td>\n",
       "      <td>...</td>\n",
       "      <td>...</td>\n",
       "    </tr>\n",
       "    <tr>\n",
       "      <th>289</th>\n",
       "      <td>-1.608900</td>\n",
       "      <td>-1.581273</td>\n",
       "      <td>-1.670592</td>\n",
       "      <td>-1.477001</td>\n",
       "      <td>-1.608354</td>\n",
       "      <td>-1.530242</td>\n",
       "      <td>-1.773212</td>\n",
       "    </tr>\n",
       "    <tr>\n",
       "      <th>290</th>\n",
       "      <td>-1.581273</td>\n",
       "      <td>-1.670592</td>\n",
       "      <td>-1.477001</td>\n",
       "      <td>-1.608354</td>\n",
       "      <td>-1.530242</td>\n",
       "      <td>-1.773212</td>\n",
       "      <td>-1.610350</td>\n",
       "    </tr>\n",
       "    <tr>\n",
       "      <th>291</th>\n",
       "      <td>-1.670592</td>\n",
       "      <td>-1.477001</td>\n",
       "      <td>-1.608354</td>\n",
       "      <td>-1.530242</td>\n",
       "      <td>-1.773212</td>\n",
       "      <td>-1.610350</td>\n",
       "      <td>-1.578478</td>\n",
       "    </tr>\n",
       "    <tr>\n",
       "      <th>292</th>\n",
       "      <td>-1.477001</td>\n",
       "      <td>-1.608354</td>\n",
       "      <td>-1.530242</td>\n",
       "      <td>-1.773212</td>\n",
       "      <td>-1.610350</td>\n",
       "      <td>-1.578478</td>\n",
       "      <td>-1.712295</td>\n",
       "    </tr>\n",
       "    <tr>\n",
       "      <th>293</th>\n",
       "      <td>-1.608354</td>\n",
       "      <td>-1.530242</td>\n",
       "      <td>-1.773212</td>\n",
       "      <td>-1.610350</td>\n",
       "      <td>-1.578478</td>\n",
       "      <td>-1.712295</td>\n",
       "      <td>-1.751332</td>\n",
       "    </tr>\n",
       "  </tbody>\n",
       "</table>\n",
       "<p>294 rows × 7 columns</p>\n",
       "</div>"
      ],
      "text/plain": [
       "      T_(N-6)   T_(N-5)   T_(N-4)   T_(N-3)   T_(N-2)   T_(N-1)  label T_N\n",
       "0   -1.312734 -1.082842 -1.006755 -1.054599 -1.135403 -1.001528  -1.123523\n",
       "1   -1.082842 -1.006755 -1.054599 -1.135403 -1.001528 -1.123523  -1.232927\n",
       "2   -1.006755 -1.054599 -1.135403 -1.001528 -1.123523 -1.232927  -1.011258\n",
       "3   -1.054599 -1.135403 -1.001528 -1.123523 -1.232927 -1.011258  -1.194356\n",
       "4   -1.135403 -1.001528 -1.123523 -1.232927 -1.011258 -1.194356  -0.873230\n",
       "..        ...       ...       ...       ...       ...       ...        ...\n",
       "289 -1.608900 -1.581273 -1.670592 -1.477001 -1.608354 -1.530242  -1.773212\n",
       "290 -1.581273 -1.670592 -1.477001 -1.608354 -1.530242 -1.773212  -1.610350\n",
       "291 -1.670592 -1.477001 -1.608354 -1.530242 -1.773212 -1.610350  -1.578478\n",
       "292 -1.477001 -1.608354 -1.530242 -1.773212 -1.610350 -1.578478  -1.712295\n",
       "293 -1.608354 -1.530242 -1.773212 -1.610350 -1.578478 -1.712295  -1.751332\n",
       "\n",
       "[294 rows x 7 columns]"
      ]
     },
     "execution_count": 8,
     "metadata": {},
     "output_type": "execute_result"
    }
   ],
   "source": [
    "Xtst = pd.DataFrame(X_test,columns = column_name)\n",
    "Xtst[\"label T_N\"] = y_test\n",
    "Xtst"
   ]
  },
  {
   "cell_type": "markdown",
   "metadata": {},
   "source": [
    "### Scaling Data"
   ]
  },
  {
   "cell_type": "code",
   "execution_count": 9,
   "metadata": {},
   "outputs": [],
   "source": [
    "from sklearn.preprocessing import MinMaxScaler"
   ]
  },
  {
   "cell_type": "code",
   "execution_count": 10,
   "metadata": {},
   "outputs": [],
   "source": [
    "scaler = MinMaxScaler()\n",
    "scaler.fit(X_train)\n",
    "X_train = scaler.transform(X_train)\n",
    "X_test = scaler.transform(X_test)"
   ]
  },
  {
   "cell_type": "markdown",
   "metadata": {},
   "source": [
    "## Building LSTM network"
   ]
  },
  {
   "cell_type": "code",
   "execution_count": 11,
   "metadata": {},
   "outputs": [],
   "source": [
    "import tensorflow as tf\n",
    "from tensorflow.keras.models import Sequential\n",
    "from tensorflow.keras.layers import Dense, Activation,LSTM"
   ]
  },
  {
   "cell_type": "code",
   "execution_count": 12,
   "metadata": {},
   "outputs": [],
   "source": [
    "model = Sequential()\n",
    "#model.add(LSTM(4, input_shape=(1, n_points)))\n",
    "model.add(LSTM(6,return_sequences=True))\n",
    "model.add(LSTM(6,return_sequences=True))\n",
    "model.add(LSTM(6))\n",
    "model.add(Dense(1))\n",
    "model.compile(loss='mean_squared_error', optimizer='adam')"
   ]
  },
  {
   "cell_type": "code",
   "execution_count": 13,
   "metadata": {},
   "outputs": [],
   "source": [
    "X_train = X_train.reshape((X_train.shape[0], 1, X_train.shape[1]))\n",
    "X_test = X_test.reshape( (X_test.shape[0], 1, X_test.shape[1]))"
   ]
  },
  {
   "cell_type": "code",
   "execution_count": 14,
   "metadata": {},
   "outputs": [
    {
     "name": "stdout",
     "output_type": "stream",
     "text": [
      "Epoch 1/20\n",
      "1200/1200 - 2s - loss: 0.2445\n",
      "Epoch 2/20\n",
      "1200/1200 - 2s - loss: 0.0455\n",
      "Epoch 3/20\n",
      "1200/1200 - 2s - loss: 0.0361\n",
      "Epoch 4/20\n",
      "1200/1200 - 2s - loss: 0.0334\n",
      "Epoch 5/20\n",
      "1200/1200 - 2s - loss: 0.0300\n",
      "Epoch 6/20\n",
      "1200/1200 - 2s - loss: 0.0278\n",
      "Epoch 7/20\n",
      "1200/1200 - 2s - loss: 0.0261\n",
      "Epoch 8/20\n",
      "1200/1200 - 2s - loss: 0.0250\n",
      "Epoch 9/20\n",
      "1200/1200 - 2s - loss: 0.0237\n",
      "Epoch 10/20\n",
      "1200/1200 - 2s - loss: 0.0237\n",
      "Epoch 11/20\n",
      "1200/1200 - 2s - loss: 0.0240\n",
      "Epoch 12/20\n",
      "1200/1200 - 2s - loss: 0.0229\n",
      "Epoch 13/20\n",
      "1200/1200 - 2s - loss: 0.0230\n",
      "Epoch 14/20\n",
      "1200/1200 - 2s - loss: 0.0236\n",
      "Epoch 15/20\n",
      "1200/1200 - 2s - loss: 0.0228\n",
      "Epoch 16/20\n",
      "1200/1200 - 2s - loss: 0.0230\n",
      "Epoch 17/20\n",
      "1200/1200 - 2s - loss: 0.0223\n",
      "Epoch 18/20\n",
      "1200/1200 - 2s - loss: 0.0225\n",
      "Epoch 19/20\n",
      "1200/1200 - 2s - loss: 0.0228\n",
      "Epoch 20/20\n",
      "1200/1200 - 2s - loss: 0.0226\n"
     ]
    },
    {
     "data": {
      "text/plain": [
       "<tensorflow.python.keras.callbacks.History at 0x2136b07d910>"
      ]
     },
     "execution_count": 14,
     "metadata": {},
     "output_type": "execute_result"
    }
   ],
   "source": [
    "model.fit(X_train, y_train, epochs=20, batch_size=1, verbose=2)"
   ]
  },
  {
   "cell_type": "code",
   "execution_count": 15,
   "metadata": {},
   "outputs": [
    {
     "name": "stdout",
     "output_type": "stream",
     "text": [
      "Model: \"sequential\"\n",
      "_________________________________________________________________\n",
      "Layer (type)                 Output Shape              Param #   \n",
      "=================================================================\n",
      "lstm (LSTM)                  (1, 1, 6)                 312       \n",
      "_________________________________________________________________\n",
      "lstm_1 (LSTM)                (1, 1, 6)                 312       \n",
      "_________________________________________________________________\n",
      "lstm_2 (LSTM)                (1, 6)                    312       \n",
      "_________________________________________________________________\n",
      "dense (Dense)                (1, 1)                    7         \n",
      "=================================================================\n",
      "Total params: 943\n",
      "Trainable params: 943\n",
      "Non-trainable params: 0\n",
      "_________________________________________________________________\n"
     ]
    }
   ],
   "source": [
    "model.summary()"
   ]
  },
  {
   "cell_type": "code",
   "execution_count": 16,
   "metadata": {},
   "outputs": [],
   "source": [
    "#model.weights"
   ]
  },
  {
   "cell_type": "markdown",
   "metadata": {},
   "source": [
    "Loss function plot"
   ]
  },
  {
   "cell_type": "code",
   "execution_count": 17,
   "metadata": {},
   "outputs": [
    {
     "data": {
      "text/plain": [
       "[<matplotlib.lines.Line2D at 0x21372afe940>]"
      ]
     },
     "execution_count": 17,
     "metadata": {},
     "output_type": "execute_result"
    },
    {
     "data": {
      "image/png": "[encoded data removed]",
      "text/plain": [
       "<Figure size 432x288 with 1 Axes>"
      ]
     },
     "metadata": {
      "needs_background": "light"
     },
     "output_type": "display_data"
    }
   ],
   "source": [
    "plt.plot(model.history.history[\"loss\"])"
   ]
  },
  {
   "cell_type": "markdown",
   "metadata": {},
   "source": [
    "## Model Evaluation"
   ]
  },
  {
   "cell_type": "code",
   "execution_count": 18,
   "metadata": {},
   "outputs": [],
   "source": [
    "training_score = model.evaluate(X_train,y_train,verbose=0)\n",
    "test_score = model.evaluate(X_test,y_test,verbose=0)"
   ]
  },
  {
   "cell_type": "code",
   "execution_count": 19,
   "metadata": {},
   "outputs": [
    {
     "data": {
      "text/plain": [
       "0.02279239147901535"
      ]
     },
     "execution_count": 19,
     "metadata": {},
     "output_type": "execute_result"
    }
   ],
   "source": [
    "training_score"
   ]
  },
  {
   "cell_type": "code",
   "execution_count": 20,
   "metadata": {},
   "outputs": [
    {
     "data": {
      "text/plain": [
       "0.029802091419696808"
      ]
     },
     "execution_count": 20,
     "metadata": {},
     "output_type": "execute_result"
    }
   ],
   "source": [
    "test_score"
   ]
  },
  {
   "cell_type": "code",
   "execution_count": 21,
   "metadata": {},
   "outputs": [],
   "source": [
    "test_predictions = model.predict(X_test)"
   ]
  },
  {
   "cell_type": "code",
   "execution_count": 22,
   "metadata": {},
   "outputs": [],
   "source": [
    "summary = pd.DataFrame({\"test\" : y_test.reshape(-1,),\n",
    "                        \"prediction\":test_predictions.reshape(-1,)})"
   ]
  },
  {
   "cell_type": "code",
   "execution_count": 23,
   "metadata": {},
   "outputs": [],
   "source": [
    "from sklearn.metrics import mean_absolute_error,mean_squared_error\n",
    "#TODO find other metrics"
   ]
  },
  {
   "cell_type": "code",
   "execution_count": 24,
   "metadata": {},
   "outputs": [
    {
     "data": {
      "text/plain": [
       "0.14112904894277575"
      ]
     },
     "execution_count": 24,
     "metadata": {},
     "output_type": "execute_result"
    }
   ],
   "source": [
    "mean_absolute_error(summary['test'],summary['prediction'])"
   ]
  },
  {
   "cell_type": "code",
   "execution_count": 25,
   "metadata": {},
   "outputs": [
    {
     "data": {
      "text/plain": [
       "0.029802090596759076"
      ]
     },
     "execution_count": 25,
     "metadata": {},
     "output_type": "execute_result"
    }
   ],
   "source": [
    "mean_squared_error(summary['test'],summary['prediction'])"
   ]
  },
  {
   "cell_type": "code",
   "execution_count": 26,
   "metadata": {},
   "outputs": [
    {
     "data": {
      "text/plain": [
       "<matplotlib.legend.Legend at 0x21377345370>"
      ]
     },
     "execution_count": 26,
     "metadata": {},
     "output_type": "execute_result"
    },
    {
     "data": {
      "image/png": "[encoded data removed]",
      "text/plain": [
       "<Figure size 1440x576 with 1 Axes>"
      ]
     },
     "metadata": {
      "needs_background": "light"
     },
     "output_type": "display_data"
    }
   ],
   "source": [
    "plt.figure(figsize=(20,8))\n",
    "plt.plot(summary[\"test\"])\n",
    "plt.plot(summary[\"prediction\"])\n",
    "plt.legend([\"test data\", \"one-point prediction\"])"
   ]
  },
  {
   "cell_type": "markdown",
   "metadata": {},
   "source": [
    "Comparison of test data, prediction and relative error\n",
    "\n",
    "REMARK: I used only one point ahead prediction"
   ]
  },
  {
   "cell_type": "code",
   "execution_count": 27,
   "metadata": {},
   "outputs": [],
   "source": [
    "summary['rel_error'] = np.abs((summary['test']- summary['prediction'])/summary['test'])"
   ]
  },
  {
   "cell_type": "code",
   "execution_count": 28,
   "metadata": {},
   "outputs": [
    {
     "data": {
      "text/html": [
       "<div>\n",
       "<style scoped>\n",
       "    .dataframe tbody tr th:only-of-type {\n",
       "        vertical-align: middle;\n",
       "    }\n",
       "\n",
       "    .dataframe tbody tr th {\n",
       "        vertical-align: top;\n",
       "    }\n",
       "\n",
       "    .dataframe thead th {\n",
       "        text-align: right;\n",
       "    }\n",
       "</style>\n",
       "<table border=\"1\" class=\"dataframe\">\n",
       "  <thead>\n",
       "    <tr style=\"text-align: right;\">\n",
       "      <th></th>\n",
       "      <th>test</th>\n",
       "      <th>prediction</th>\n",
       "      <th>rel_error</th>\n",
       "    </tr>\n",
       "  </thead>\n",
       "  <tbody>\n",
       "    <tr>\n",
       "      <th>0</th>\n",
       "      <td>-1.123523</td>\n",
       "      <td>-1.096479</td>\n",
       "      <td>0.024071</td>\n",
       "    </tr>\n",
       "    <tr>\n",
       "      <th>1</th>\n",
       "      <td>-1.232927</td>\n",
       "      <td>-1.080975</td>\n",
       "      <td>0.123246</td>\n",
       "    </tr>\n",
       "    <tr>\n",
       "      <th>2</th>\n",
       "      <td>-1.011258</td>\n",
       "      <td>-1.107090</td>\n",
       "      <td>0.094766</td>\n",
       "    </tr>\n",
       "    <tr>\n",
       "      <th>3</th>\n",
       "      <td>-1.194356</td>\n",
       "      <td>-1.092165</td>\n",
       "      <td>0.085562</td>\n",
       "    </tr>\n",
       "    <tr>\n",
       "      <th>4</th>\n",
       "      <td>-0.873230</td>\n",
       "      <td>-1.125351</td>\n",
       "      <td>0.288722</td>\n",
       "    </tr>\n",
       "    <tr>\n",
       "      <th>...</th>\n",
       "      <td>...</td>\n",
       "      <td>...</td>\n",
       "      <td>...</td>\n",
       "    </tr>\n",
       "    <tr>\n",
       "      <th>289</th>\n",
       "      <td>-1.773212</td>\n",
       "      <td>-1.406261</td>\n",
       "      <td>0.206941</td>\n",
       "    </tr>\n",
       "    <tr>\n",
       "      <th>290</th>\n",
       "      <td>-1.610350</td>\n",
       "      <td>-1.430847</td>\n",
       "      <td>0.111468</td>\n",
       "    </tr>\n",
       "    <tr>\n",
       "      <th>291</th>\n",
       "      <td>-1.578478</td>\n",
       "      <td>-1.419082</td>\n",
       "      <td>0.100980</td>\n",
       "    </tr>\n",
       "    <tr>\n",
       "      <th>292</th>\n",
       "      <td>-1.712295</td>\n",
       "      <td>-1.420792</td>\n",
       "      <td>0.170241</td>\n",
       "    </tr>\n",
       "    <tr>\n",
       "      <th>293</th>\n",
       "      <td>-1.751332</td>\n",
       "      <td>-1.431517</td>\n",
       "      <td>0.182612</td>\n",
       "    </tr>\n",
       "  </tbody>\n",
       "</table>\n",
       "<p>294 rows × 3 columns</p>\n",
       "</div>"
      ],
      "text/plain": [
       "         test  prediction  rel_error\n",
       "0   -1.123523   -1.096479   0.024071\n",
       "1   -1.232927   -1.080975   0.123246\n",
       "2   -1.011258   -1.107090   0.094766\n",
       "3   -1.194356   -1.092165   0.085562\n",
       "4   -0.873230   -1.125351   0.288722\n",
       "..        ...         ...        ...\n",
       "289 -1.773212   -1.406261   0.206941\n",
       "290 -1.610350   -1.430847   0.111468\n",
       "291 -1.578478   -1.419082   0.100980\n",
       "292 -1.712295   -1.420792   0.170241\n",
       "293 -1.751332   -1.431517   0.182612\n",
       "\n",
       "[294 rows x 3 columns]"
      ]
     },
     "execution_count": 28,
     "metadata": {},
     "output_type": "execute_result"
    }
   ],
   "source": [
    "summary"
   ]
  },
  {
   "cell_type": "code",
   "execution_count": 29,
   "metadata": {},
   "outputs": [
    {
     "data": {
      "text/plain": [
       "0.12"
      ]
     },
     "execution_count": 29,
     "metadata": {},
     "output_type": "execute_result"
    }
   ],
   "source": [
    "round(summary['rel_error'].mean(),2)"
   ]
  },
  {
   "cell_type": "code",
   "execution_count": 30,
   "metadata": {},
   "outputs": [
    {
     "data": {
      "text/plain": [
       "0.1"
      ]
     },
     "execution_count": 30,
     "metadata": {},
     "output_type": "execute_result"
    }
   ],
   "source": [
    "round(summary['rel_error'].std(),2)"
   ]
  },
  {
   "cell_type": "code",
   "execution_count": null,
   "metadata": {},
   "outputs": [],
   "source": []
  }
 ],
 "metadata": {
  "kernelspec": {
   "display_name": "Python 3",
   "language": "python",
   "name": "python3"
  },
  "language_info": {
   "codemirror_mode": {
    "name": "ipython",
    "version": 3
   },
   "file_extension": ".py",
   "mimetype": "text/x-python",
   "name": "python",
   "nbconvert_exporter": "python",
   "pygments_lexer": "ipython3",
   "version": "3.8.5"
  }
 },
 "nbformat": 4,
 "nbformat_minor": 4
}
